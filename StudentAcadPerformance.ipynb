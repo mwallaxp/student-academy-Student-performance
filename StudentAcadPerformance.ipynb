{
 "cells": [
  {
   "cell_type": "markdown",
   "id": "97d1d225-80df-4c2d-8d50-33041dd3dfdc",
   "metadata": {},
   "source": [
    "## Student Performance Indicator\n"
   ]
  },
  {
   "cell_type": "markdown",
   "id": "0c7f3b39-b392-49ad-8079-409bd89afa8e",
   "metadata": {},
   "source": [
    "### Student Performance Indicator\n",
    "Life cycle of Machine learning Project\n",
    "Understanding the Problem Statement\n",
    "Data Collection\n",
    "Data Checks to perform\n",
    "Exploratory data analysis \n",
    "Data Pre-Processing\n",
    "Model Training\n",
    " Choose best model"
   ]
  },
  {
   "cell_type": "markdown",
   "id": "b968a1de-b12b-43d3-9dea-555a27d6cc39",
   "metadata": {},
   "source": [
    " 1) Problem statement"
   ]
  },
  {
   "cell_type": "markdown",
   "id": "0cf862ce-49ee-48b8-b7eb-f1d64aca3938",
   "metadata": {},
   "source": [
    "2) Data Collection\n",
    "Dataset Source - "
   ]
  },
  {
   "cell_type": "markdown",
   "id": "e9f790ad-4784-49fb-8cd5-0151b8e5cd46",
   "metadata": {},
   "source": [
    "2.1 Import Data and Required Packages\n",
    "Importing Pandas, Numpy, Matplotlib, Seaborn and Warings Library."
   ]
  },
  {
   "cell_type": "code",
   "execution_count": 171,
   "id": "f10bde74-cfad-471c-bfcc-71bbd6d0929d",
   "metadata": {},
   "outputs": [],
   "source": [
    "import numpy as np\n",
    "import pandas as pd\n",
    "import seaborn as sns\n",
    "import matplotlib.pyplot as plt\n",
    "%matplotlib inline\n",
    "import warnings\n",
    "warnings.filterwarnings('ignore')"
   ]
  },
  {
   "cell_type": "markdown",
   "id": "04d4d8e9-0b06-4c82-8f9d-86fdf500cec5",
   "metadata": {},
   "source": [
    "### loading the CSV Data using the pandas DataFrame"
   ]
  },
  {
   "cell_type": "code",
   "execution_count": 172,
   "id": "1f65ffa4-5162-4876-9085-4ceff0fb8394",
   "metadata": {},
   "outputs": [],
   "source": [
    "StudentAcadPerformance=pd.read_csv('StudentAcadPerformance.csv')"
   ]
  },
  {
   "cell_type": "markdown",
   "id": "57c28e85-5221-43f9-9b19-55817c9d8f00",
   "metadata": {},
   "source": [
    "Show Top 5 Records"
   ]
  },
  {
   "cell_type": "code",
   "execution_count": 173,
   "id": "3345d43b-dbfd-4ac3-b530-ec2db34f64b0",
   "metadata": {
    "scrolled": true
   },
   "outputs": [
    {
     "data": {
      "text/html": [
       "<div>\n",
       "<style scoped>\n",
       "    .dataframe tbody tr th:only-of-type {\n",
       "        vertical-align: middle;\n",
       "    }\n",
       "\n",
       "    .dataframe tbody tr th {\n",
       "        vertical-align: top;\n",
       "    }\n",
       "\n",
       "    .dataframe thead th {\n",
       "        text-align: right;\n",
       "    }\n",
       "</style>\n",
       "<table border=\"1\" class=\"dataframe\">\n",
       "  <thead>\n",
       "    <tr style=\"text-align: right;\">\n",
       "      <th></th>\n",
       "      <th>Gender</th>\n",
       "      <th>MaritalStatus</th>\n",
       "      <th>Age</th>\n",
       "      <th>Accommodation</th>\n",
       "      <th>Faculty</th>\n",
       "      <th>SecSchType</th>\n",
       "      <th>HealthCondition</th>\n",
       "      <th>LevelOfStudy</th>\n",
       "      <th>LectureAttend</th>\n",
       "      <th>ClassActive</th>\n",
       "      <th>...</th>\n",
       "      <th>ClassSize</th>\n",
       "      <th>InternetAccess</th>\n",
       "      <th>LecClarification</th>\n",
       "      <th>LecSupport</th>\n",
       "      <th>TeachnApproach</th>\n",
       "      <th>TeachnResources</th>\n",
       "      <th>TopicDensity</th>\n",
       "      <th>LecAbsFreq</th>\n",
       "      <th>LecPuctuality</th>\n",
       "      <th>TeachExperience</th>\n",
       "    </tr>\n",
       "  </thead>\n",
       "  <tbody>\n",
       "    <tr>\n",
       "      <th>0</th>\n",
       "      <td>Male</td>\n",
       "      <td>Single</td>\n",
       "      <td>31-35</td>\n",
       "      <td>Living with family/relatives</td>\n",
       "      <td>Physical Sciences</td>\n",
       "      <td>Public</td>\n",
       "      <td>No</td>\n",
       "      <td>500</td>\n",
       "      <td>Strongly disagree</td>\n",
       "      <td>Occasionally</td>\n",
       "      <td>...</td>\n",
       "      <td>Yes</td>\n",
       "      <td>Strongly disagree</td>\n",
       "      <td>Good</td>\n",
       "      <td>Good</td>\n",
       "      <td>Occasionally</td>\n",
       "      <td>Frequently</td>\n",
       "      <td>Disagree</td>\n",
       "      <td>Disagree</td>\n",
       "      <td>Agree</td>\n",
       "      <td>Good</td>\n",
       "    </tr>\n",
       "    <tr>\n",
       "      <th>1</th>\n",
       "      <td>Male</td>\n",
       "      <td>Single</td>\n",
       "      <td>31-35</td>\n",
       "      <td>Off-campus</td>\n",
       "      <td>Physical Sciences</td>\n",
       "      <td>Public</td>\n",
       "      <td>No</td>\n",
       "      <td>500</td>\n",
       "      <td>Disagree</td>\n",
       "      <td>Frequently</td>\n",
       "      <td>...</td>\n",
       "      <td>Yes</td>\n",
       "      <td>Strongly disagree</td>\n",
       "      <td>Good</td>\n",
       "      <td>Good</td>\n",
       "      <td>Frequently</td>\n",
       "      <td>Frequently</td>\n",
       "      <td>Agree</td>\n",
       "      <td>Agree</td>\n",
       "      <td>Agree</td>\n",
       "      <td>Good</td>\n",
       "    </tr>\n",
       "    <tr>\n",
       "      <th>2</th>\n",
       "      <td>Male</td>\n",
       "      <td>Single</td>\n",
       "      <td>21-25</td>\n",
       "      <td>Off-campus</td>\n",
       "      <td>Physical Sciences</td>\n",
       "      <td>Private</td>\n",
       "      <td>No</td>\n",
       "      <td>300</td>\n",
       "      <td>Agree</td>\n",
       "      <td>Never</td>\n",
       "      <td>...</td>\n",
       "      <td>No</td>\n",
       "      <td>Strongly disagree</td>\n",
       "      <td>Average</td>\n",
       "      <td>Good</td>\n",
       "      <td>Occasionally</td>\n",
       "      <td>Never</td>\n",
       "      <td>Agree</td>\n",
       "      <td>Agree</td>\n",
       "      <td>Strongly agree</td>\n",
       "      <td>Excellent</td>\n",
       "    </tr>\n",
       "    <tr>\n",
       "      <th>3</th>\n",
       "      <td>Female</td>\n",
       "      <td>Single</td>\n",
       "      <td>21-25</td>\n",
       "      <td>On-campus</td>\n",
       "      <td>Life Sciences</td>\n",
       "      <td>Public</td>\n",
       "      <td>No</td>\n",
       "      <td>500</td>\n",
       "      <td>Disagree</td>\n",
       "      <td>Never</td>\n",
       "      <td>...</td>\n",
       "      <td>Yes</td>\n",
       "      <td>Agree</td>\n",
       "      <td>Good</td>\n",
       "      <td>Excellent</td>\n",
       "      <td>Always</td>\n",
       "      <td>Always</td>\n",
       "      <td>Disagree</td>\n",
       "      <td>Disagree</td>\n",
       "      <td>Disagree</td>\n",
       "      <td>Excellent</td>\n",
       "    </tr>\n",
       "    <tr>\n",
       "      <th>4</th>\n",
       "      <td>Male</td>\n",
       "      <td>Single</td>\n",
       "      <td>16-20</td>\n",
       "      <td>Off-campus</td>\n",
       "      <td>Physical Sciences</td>\n",
       "      <td>Private</td>\n",
       "      <td>No</td>\n",
       "      <td>200</td>\n",
       "      <td>Agree</td>\n",
       "      <td>Rarely</td>\n",
       "      <td>...</td>\n",
       "      <td>Yes</td>\n",
       "      <td>Disagree</td>\n",
       "      <td>Average</td>\n",
       "      <td>Good</td>\n",
       "      <td>Occasionally</td>\n",
       "      <td>Occasionally</td>\n",
       "      <td>Disagree</td>\n",
       "      <td>Strongly disagree</td>\n",
       "      <td>Disagree</td>\n",
       "      <td>Good</td>\n",
       "    </tr>\n",
       "  </tbody>\n",
       "</table>\n",
       "<p>5 rows × 40 columns</p>\n",
       "</div>"
      ],
      "text/plain": [
       "   Gender MaritalStatus    Age                 Accommodation  \\\n",
       "0    Male        Single  31-35  Living with family/relatives   \n",
       "1    Male        Single  31-35                    Off-campus   \n",
       "2    Male        Single  21-25                    Off-campus   \n",
       "3  Female        Single  21-25                     On-campus   \n",
       "4    Male        Single  16-20                    Off-campus   \n",
       "\n",
       "             Faculty SecSchType  HealthCondition   LevelOfStudy  \\\n",
       "0  Physical Sciences      Public              No            500   \n",
       "1  Physical Sciences      Public              No            500   \n",
       "2  Physical Sciences     Private              No            300   \n",
       "3      Life Sciences      Public              No            500   \n",
       "4  Physical Sciences     Private              No            200   \n",
       "\n",
       "       LectureAttend   ClassActive  ... ClassSize     InternetAccess  \\\n",
       "0  Strongly disagree  Occasionally  ...       Yes  Strongly disagree   \n",
       "1           Disagree    Frequently  ...       Yes  Strongly disagree   \n",
       "2              Agree         Never  ...        No  Strongly disagree   \n",
       "3           Disagree         Never  ...       Yes              Agree   \n",
       "4              Agree        Rarely  ...       Yes           Disagree   \n",
       "\n",
       "  LecClarification LecSupport TeachnApproach TeachnResources TopicDensity  \\\n",
       "0             Good       Good   Occasionally      Frequently     Disagree   \n",
       "1             Good       Good     Frequently      Frequently        Agree   \n",
       "2          Average       Good   Occasionally           Never        Agree   \n",
       "3             Good  Excellent         Always          Always     Disagree   \n",
       "4          Average       Good   Occasionally    Occasionally     Disagree   \n",
       "\n",
       "          LecAbsFreq   LecPuctuality TeachExperience  \n",
       "0           Disagree           Agree            Good  \n",
       "1              Agree           Agree            Good  \n",
       "2              Agree  Strongly agree       Excellent  \n",
       "3           Disagree        Disagree       Excellent  \n",
       "4  Strongly disagree        Disagree            Good  \n",
       "\n",
       "[5 rows x 40 columns]"
      ]
     },
     "execution_count": 173,
     "metadata": {},
     "output_type": "execute_result"
    }
   ],
   "source": [
    "StudentAcadPerformance.head()"
   ]
  },
  {
   "cell_type": "markdown",
   "id": "e3bc7dfa-8310-4d55-a211-bcba4b86ea44",
   "metadata": {},
   "source": [
    "Shape of the dataset"
   ]
  },
  {
   "cell_type": "code",
   "execution_count": 177,
   "id": "b9c8ce49-1c7b-4940-bbe4-6b1ec77d4865",
   "metadata": {},
   "outputs": [
    {
     "data": {
      "text/plain": [
       "(729, 40)"
      ]
     },
     "execution_count": 177,
     "metadata": {},
     "output_type": "execute_result"
    }
   ],
   "source": [
    "StudentAcadPerformance.shape"
   ]
  },
  {
   "cell_type": "raw",
   "id": "08679c90-d837-48a2-88f2-6aa66c960554",
   "metadata": {},
   "source": [
    "2.2 Dataset information\n",
    "gender : sex of students -> (Male/female)"
   ]
  },
  {
   "cell_type": "raw",
   "id": "58926212-a125-4fe1-acb2-0ca110d2bd73",
   "metadata": {},
   "source": [
    "3. Data Checks to perform\r\n",
    "Check Missing values\r\n",
    "Check Duplicates\r\n",
    "Check data type\r\n",
    "Check the number of unique values of each column\r\n",
    "Check statistics of data set\r\n",
    "Check various categories present in the different categorical column"
   ]
  },
  {
   "cell_type": "markdown",
   "id": "40efc661-c34e-4428-9670-419ed594637b",
   "metadata": {},
   "source": [
    "3.1 Check Missing values"
   ]
  },
  {
   "cell_type": "code",
   "execution_count": 154,
   "id": "bfec000e-cae5-4910-bae2-27432b7e5ace",
   "metadata": {},
   "outputs": [
    {
     "data": {
      "text/plain": [
       "Gender                 0\n",
       "MaritalStatus          0\n",
       "Age                    0\n",
       "Accommodation          0\n",
       "Faculty                0\n",
       "SecSchType             0\n",
       "HealthCondition        0\n",
       " LevelOfStudy          0\n",
       "LectureAttend          0\n",
       "ClassActive            0\n",
       "LateFreq               0\n",
       "StudyHours             0\n",
       "CGPA                   0\n",
       "TechUtilization        0\n",
       "EmpStatus              0\n",
       "SocialMedia            0\n",
       "StressMang             0\n",
       "SadFreq                0\n",
       "StudentAssoc           0\n",
       "ExtracurricularAct     0\n",
       "YearsBefAdmission      0\n",
       "FamilySize             0\n",
       "SponsorType            0\n",
       "SponsorIncome          0\n",
       "SponsorSupport         0\n",
       " HomeResp              0\n",
       "ProgramPref            0\n",
       "OnlineResources        0\n",
       "TeachStaffComp         0\n",
       "QualityOfFacilities    0\n",
       "ClassSize              0\n",
       "InternetAccess         0\n",
       "LecClarification       0\n",
       "LecSupport             0\n",
       "TeachnApproach         0\n",
       "TeachnResources        0\n",
       "TopicDensity           0\n",
       "LecAbsFreq             0\n",
       "LecPuctuality          0\n",
       "TeachExperience        0\n",
       "dtype: int64"
      ]
     },
     "execution_count": 154,
     "metadata": {},
     "output_type": "execute_result"
    }
   ],
   "source": [
    "StudentAcadPerformance.isna().sum()"
   ]
  },
  {
   "cell_type": "markdown",
   "id": "063f9b0e-ab4f-4f25-83bf-2a837063f9cf",
   "metadata": {},
   "source": [
    "3.2 Check Duplicates"
   ]
  },
  {
   "cell_type": "code",
   "execution_count": 155,
   "id": "d1b93909-213b-4800-9eb9-cd1e4298a505",
   "metadata": {},
   "outputs": [
    {
     "data": {
      "text/plain": [
       "0"
      ]
     },
     "execution_count": 155,
     "metadata": {},
     "output_type": "execute_result"
    }
   ],
   "source": [
    "StudentAcadPerformance.duplicated().sum()"
   ]
  },
  {
   "cell_type": "markdown",
   "id": "eca63599-005a-465a-a844-c1d5e7fbbc6d",
   "metadata": {},
   "source": [
    "There are no duplicates values in the data set"
   ]
  },
  {
   "cell_type": "markdown",
   "id": "b3fdd84f-233f-4dbf-b9fa-805c735fc185",
   "metadata": {},
   "source": [
    "3.3 Check data types"
   ]
  },
  {
   "cell_type": "code",
   "execution_count": 178,
   "id": "8a2442ac-4d40-4c30-a68c-c500d26b60fd",
   "metadata": {},
   "outputs": [
    {
     "name": "stdout",
     "output_type": "stream",
     "text": [
      "<class 'pandas.core.frame.DataFrame'>\n",
      "RangeIndex: 729 entries, 0 to 728\n",
      "Data columns (total 40 columns):\n",
      " #   Column               Non-Null Count  Dtype \n",
      "---  ------               --------------  ----- \n",
      " 0   Gender               729 non-null    object\n",
      " 1   MaritalStatus        729 non-null    object\n",
      " 2   Age                  729 non-null    object\n",
      " 3   Accommodation        729 non-null    object\n",
      " 4   Faculty              729 non-null    object\n",
      " 5   SecSchType           729 non-null    object\n",
      " 6   HealthCondition      729 non-null    object\n",
      " 7    LevelOfStudy        729 non-null    int64 \n",
      " 8   LectureAttend        729 non-null    object\n",
      " 9   ClassActive          729 non-null    object\n",
      " 10  LateFreq             729 non-null    object\n",
      " 11  StudyHours           729 non-null    object\n",
      " 12  CGPA                 729 non-null    object\n",
      " 13  TechUtilization      729 non-null    object\n",
      " 14  EmpStatus            729 non-null    object\n",
      " 15  SocialMedia          729 non-null    object\n",
      " 16  StressMang           729 non-null    object\n",
      " 17  SadFreq              729 non-null    object\n",
      " 18  StudentAssoc         729 non-null    object\n",
      " 19  ExtracurricularAct   729 non-null    object\n",
      " 20  YearsBefAdmission    729 non-null    object\n",
      " 21  FamilySize           729 non-null    object\n",
      " 22  SponsorType          729 non-null    object\n",
      " 23  SponsorIncome        729 non-null    object\n",
      " 24  SponsorSupport       729 non-null    object\n",
      " 25   HomeResp            729 non-null    object\n",
      " 26  ProgramPref          729 non-null    object\n",
      " 27  OnlineResources      729 non-null    object\n",
      " 28  TeachStaffComp       729 non-null    object\n",
      " 29  QualityOfFacilities  729 non-null    object\n",
      " 30  ClassSize            729 non-null    object\n",
      " 31  InternetAccess       729 non-null    object\n",
      " 32  LecClarification     729 non-null    object\n",
      " 33  LecSupport           729 non-null    object\n",
      " 34  TeachnApproach       729 non-null    object\n",
      " 35  TeachnResources      729 non-null    object\n",
      " 36  TopicDensity         729 non-null    object\n",
      " 37  LecAbsFreq           729 non-null    object\n",
      " 38  LecPuctuality        729 non-null    object\n",
      " 39  TeachExperience      729 non-null    object\n",
      "dtypes: int64(1), object(39)\n",
      "memory usage: 227.9+ KB\n"
     ]
    }
   ],
   "source": [
    "StudentAcadPerformance.info()"
   ]
  },
  {
   "cell_type": "markdown",
   "id": "d0e947c0-7f2f-4d74-9e11-155ffe57b03c",
   "metadata": {},
   "source": [
    "3.4 Checking the number of unique values of each column"
   ]
  },
  {
   "cell_type": "code",
   "execution_count": 179,
   "id": "abcfc5b0-e971-4e10-87cf-5145221c70c3",
   "metadata": {},
   "outputs": [
    {
     "data": {
      "text/plain": [
       "Gender                 False\n",
       "MaritalStatus          False\n",
       "Age                     True\n",
       "Accommodation          False\n",
       "Faculty                False\n",
       "SecSchType             False\n",
       "HealthCondition        False\n",
       " LevelOfStudy          False\n",
       "LectureAttend          False\n",
       "ClassActive             True\n",
       "LateFreq                True\n",
       "StudyHours              True\n",
       "CGPA                    True\n",
       "TechUtilization         True\n",
       "EmpStatus              False\n",
       "SocialMedia             True\n",
       "StressMang              True\n",
       "SadFreq                False\n",
       "StudentAssoc           False\n",
       "ExtracurricularAct      True\n",
       "YearsBefAdmission      False\n",
       "FamilySize             False\n",
       "SponsorType            False\n",
       "SponsorIncome          False\n",
       "SponsorSupport         False\n",
       " HomeResp              False\n",
       "ProgramPref            False\n",
       "OnlineResources         True\n",
       "TeachStaffComp          True\n",
       "QualityOfFacilities     True\n",
       "ClassSize              False\n",
       "InternetAccess         False\n",
       "LecClarification        True\n",
       "LecSupport              True\n",
       "TeachnApproach          True\n",
       "TeachnResources         True\n",
       "TopicDensity           False\n",
       "LecAbsFreq             False\n",
       "LecPuctuality          False\n",
       "TeachExperience         True\n",
       "dtype: bool"
      ]
     },
     "execution_count": 179,
     "metadata": {},
     "output_type": "execute_result"
    }
   ],
   "source": [
    "(StudentAcadPerformance.nunique()==5)"
   ]
  },
  {
   "cell_type": "code",
   "execution_count": 184,
   "id": "85a78435-e5fd-4022-8587-597775fad3ed",
   "metadata": {},
   "outputs": [
    {
     "data": {
      "text/plain": [
       "0      1\n",
       "1      1\n",
       "2      0\n",
       "3      0\n",
       "4      0\n",
       "      ..\n",
       "724    0\n",
       "725    0\n",
       "726    1\n",
       "727    0\n",
       "728    0\n",
       "Name: CGPA, Length: 729, dtype: int64"
      ]
     },
     "execution_count": 184,
     "metadata": {},
     "output_type": "execute_result"
    }
   ],
   "source": [
    "StudentAcadPerformance['CGPA']"
   ]
  },
  {
   "cell_type": "code",
   "execution_count": 182,
   "id": "d7b46076-86db-489f-bf29-e0e1fb2feeb3",
   "metadata": {},
   "outputs": [],
   "source": [
    "CGPA=StudentAcadPerformance['CGPA'].replace([\"0.00 - 1.49\", \"1.50 - 2.39\", \"2.40 - 3.49\", \"3.50 - 4.49\", \"4.50 - 5.00\"], [0, 0, 0, 1, 1], inplace=True)\n",
    "CGPA"
   ]
  },
  {
   "cell_type": "code",
   "execution_count": 185,
   "id": "c1a420b1-c5ca-472a-bad9-c5217e34aad7",
   "metadata": {},
   "outputs": [],
   "source": [
    "CGPA"
   ]
  },
  {
   "cell_type": "code",
   "execution_count": 186,
   "id": "8a62dfa9-5e61-4165-9ad2-f39e8bcd2439",
   "metadata": {},
   "outputs": [
    {
     "data": {
      "text/html": [
       "<div>\n",
       "<style scoped>\n",
       "    .dataframe tbody tr th:only-of-type {\n",
       "        vertical-align: middle;\n",
       "    }\n",
       "\n",
       "    .dataframe tbody tr th {\n",
       "        vertical-align: top;\n",
       "    }\n",
       "\n",
       "    .dataframe thead th {\n",
       "        text-align: right;\n",
       "    }\n",
       "</style>\n",
       "<table border=\"1\" class=\"dataframe\">\n",
       "  <thead>\n",
       "    <tr style=\"text-align: right;\">\n",
       "      <th></th>\n",
       "      <th>LevelOfStudy</th>\n",
       "      <th>CGPA</th>\n",
       "      <th>Gender_Male</th>\n",
       "      <th>MaritalStatus_Married</th>\n",
       "      <th>MaritalStatus_Single</th>\n",
       "      <th>MaritalStatus_Widowed</th>\n",
       "      <th>Age_21-25</th>\n",
       "      <th>Age_26-30</th>\n",
       "      <th>Age_31-35</th>\n",
       "      <th>Age_36 or above</th>\n",
       "      <th>...</th>\n",
       "      <th>LecAbsFreq_Disagree</th>\n",
       "      <th>LecAbsFreq_Strongly agree</th>\n",
       "      <th>LecAbsFreq_Strongly disagree</th>\n",
       "      <th>LecPuctuality_Disagree</th>\n",
       "      <th>LecPuctuality_Strongly agree</th>\n",
       "      <th>LecPuctuality_Strongly disagree</th>\n",
       "      <th>TeachExperience_Excellent</th>\n",
       "      <th>TeachExperience_Good</th>\n",
       "      <th>TeachExperience_Poor</th>\n",
       "      <th>TeachExperience_Very poor</th>\n",
       "    </tr>\n",
       "  </thead>\n",
       "  <tbody>\n",
       "    <tr>\n",
       "      <th>0</th>\n",
       "      <td>500</td>\n",
       "      <td>1</td>\n",
       "      <td>True</td>\n",
       "      <td>False</td>\n",
       "      <td>True</td>\n",
       "      <td>False</td>\n",
       "      <td>False</td>\n",
       "      <td>False</td>\n",
       "      <td>True</td>\n",
       "      <td>False</td>\n",
       "      <td>...</td>\n",
       "      <td>True</td>\n",
       "      <td>False</td>\n",
       "      <td>False</td>\n",
       "      <td>False</td>\n",
       "      <td>False</td>\n",
       "      <td>False</td>\n",
       "      <td>False</td>\n",
       "      <td>True</td>\n",
       "      <td>False</td>\n",
       "      <td>False</td>\n",
       "    </tr>\n",
       "    <tr>\n",
       "      <th>1</th>\n",
       "      <td>500</td>\n",
       "      <td>1</td>\n",
       "      <td>True</td>\n",
       "      <td>False</td>\n",
       "      <td>True</td>\n",
       "      <td>False</td>\n",
       "      <td>False</td>\n",
       "      <td>False</td>\n",
       "      <td>True</td>\n",
       "      <td>False</td>\n",
       "      <td>...</td>\n",
       "      <td>False</td>\n",
       "      <td>False</td>\n",
       "      <td>False</td>\n",
       "      <td>False</td>\n",
       "      <td>False</td>\n",
       "      <td>False</td>\n",
       "      <td>False</td>\n",
       "      <td>True</td>\n",
       "      <td>False</td>\n",
       "      <td>False</td>\n",
       "    </tr>\n",
       "    <tr>\n",
       "      <th>2</th>\n",
       "      <td>300</td>\n",
       "      <td>0</td>\n",
       "      <td>True</td>\n",
       "      <td>False</td>\n",
       "      <td>True</td>\n",
       "      <td>False</td>\n",
       "      <td>True</td>\n",
       "      <td>False</td>\n",
       "      <td>False</td>\n",
       "      <td>False</td>\n",
       "      <td>...</td>\n",
       "      <td>False</td>\n",
       "      <td>False</td>\n",
       "      <td>False</td>\n",
       "      <td>False</td>\n",
       "      <td>True</td>\n",
       "      <td>False</td>\n",
       "      <td>True</td>\n",
       "      <td>False</td>\n",
       "      <td>False</td>\n",
       "      <td>False</td>\n",
       "    </tr>\n",
       "    <tr>\n",
       "      <th>3</th>\n",
       "      <td>500</td>\n",
       "      <td>0</td>\n",
       "      <td>False</td>\n",
       "      <td>False</td>\n",
       "      <td>True</td>\n",
       "      <td>False</td>\n",
       "      <td>True</td>\n",
       "      <td>False</td>\n",
       "      <td>False</td>\n",
       "      <td>False</td>\n",
       "      <td>...</td>\n",
       "      <td>True</td>\n",
       "      <td>False</td>\n",
       "      <td>False</td>\n",
       "      <td>True</td>\n",
       "      <td>False</td>\n",
       "      <td>False</td>\n",
       "      <td>True</td>\n",
       "      <td>False</td>\n",
       "      <td>False</td>\n",
       "      <td>False</td>\n",
       "    </tr>\n",
       "    <tr>\n",
       "      <th>4</th>\n",
       "      <td>200</td>\n",
       "      <td>0</td>\n",
       "      <td>True</td>\n",
       "      <td>False</td>\n",
       "      <td>True</td>\n",
       "      <td>False</td>\n",
       "      <td>False</td>\n",
       "      <td>False</td>\n",
       "      <td>False</td>\n",
       "      <td>False</td>\n",
       "      <td>...</td>\n",
       "      <td>False</td>\n",
       "      <td>False</td>\n",
       "      <td>True</td>\n",
       "      <td>True</td>\n",
       "      <td>False</td>\n",
       "      <td>False</td>\n",
       "      <td>False</td>\n",
       "      <td>True</td>\n",
       "      <td>False</td>\n",
       "      <td>False</td>\n",
       "    </tr>\n",
       "    <tr>\n",
       "      <th>...</th>\n",
       "      <td>...</td>\n",
       "      <td>...</td>\n",
       "      <td>...</td>\n",
       "      <td>...</td>\n",
       "      <td>...</td>\n",
       "      <td>...</td>\n",
       "      <td>...</td>\n",
       "      <td>...</td>\n",
       "      <td>...</td>\n",
       "      <td>...</td>\n",
       "      <td>...</td>\n",
       "      <td>...</td>\n",
       "      <td>...</td>\n",
       "      <td>...</td>\n",
       "      <td>...</td>\n",
       "      <td>...</td>\n",
       "      <td>...</td>\n",
       "      <td>...</td>\n",
       "      <td>...</td>\n",
       "      <td>...</td>\n",
       "      <td>...</td>\n",
       "    </tr>\n",
       "    <tr>\n",
       "      <th>724</th>\n",
       "      <td>300</td>\n",
       "      <td>0</td>\n",
       "      <td>True</td>\n",
       "      <td>False</td>\n",
       "      <td>True</td>\n",
       "      <td>False</td>\n",
       "      <td>True</td>\n",
       "      <td>False</td>\n",
       "      <td>False</td>\n",
       "      <td>False</td>\n",
       "      <td>...</td>\n",
       "      <td>False</td>\n",
       "      <td>False</td>\n",
       "      <td>False</td>\n",
       "      <td>True</td>\n",
       "      <td>False</td>\n",
       "      <td>False</td>\n",
       "      <td>True</td>\n",
       "      <td>False</td>\n",
       "      <td>False</td>\n",
       "      <td>False</td>\n",
       "    </tr>\n",
       "    <tr>\n",
       "      <th>725</th>\n",
       "      <td>500</td>\n",
       "      <td>0</td>\n",
       "      <td>True</td>\n",
       "      <td>False</td>\n",
       "      <td>True</td>\n",
       "      <td>False</td>\n",
       "      <td>True</td>\n",
       "      <td>False</td>\n",
       "      <td>False</td>\n",
       "      <td>False</td>\n",
       "      <td>...</td>\n",
       "      <td>False</td>\n",
       "      <td>False</td>\n",
       "      <td>False</td>\n",
       "      <td>False</td>\n",
       "      <td>False</td>\n",
       "      <td>False</td>\n",
       "      <td>False</td>\n",
       "      <td>False</td>\n",
       "      <td>False</td>\n",
       "      <td>False</td>\n",
       "    </tr>\n",
       "    <tr>\n",
       "      <th>726</th>\n",
       "      <td>200</td>\n",
       "      <td>1</td>\n",
       "      <td>False</td>\n",
       "      <td>False</td>\n",
       "      <td>True</td>\n",
       "      <td>False</td>\n",
       "      <td>False</td>\n",
       "      <td>False</td>\n",
       "      <td>False</td>\n",
       "      <td>False</td>\n",
       "      <td>...</td>\n",
       "      <td>False</td>\n",
       "      <td>False</td>\n",
       "      <td>False</td>\n",
       "      <td>False</td>\n",
       "      <td>False</td>\n",
       "      <td>False</td>\n",
       "      <td>False</td>\n",
       "      <td>False</td>\n",
       "      <td>False</td>\n",
       "      <td>False</td>\n",
       "    </tr>\n",
       "    <tr>\n",
       "      <th>727</th>\n",
       "      <td>300</td>\n",
       "      <td>0</td>\n",
       "      <td>True</td>\n",
       "      <td>False</td>\n",
       "      <td>True</td>\n",
       "      <td>False</td>\n",
       "      <td>False</td>\n",
       "      <td>True</td>\n",
       "      <td>False</td>\n",
       "      <td>False</td>\n",
       "      <td>...</td>\n",
       "      <td>False</td>\n",
       "      <td>True</td>\n",
       "      <td>False</td>\n",
       "      <td>True</td>\n",
       "      <td>False</td>\n",
       "      <td>False</td>\n",
       "      <td>False</td>\n",
       "      <td>True</td>\n",
       "      <td>False</td>\n",
       "      <td>False</td>\n",
       "    </tr>\n",
       "    <tr>\n",
       "      <th>728</th>\n",
       "      <td>400</td>\n",
       "      <td>0</td>\n",
       "      <td>True</td>\n",
       "      <td>False</td>\n",
       "      <td>True</td>\n",
       "      <td>False</td>\n",
       "      <td>False</td>\n",
       "      <td>True</td>\n",
       "      <td>False</td>\n",
       "      <td>False</td>\n",
       "      <td>...</td>\n",
       "      <td>False</td>\n",
       "      <td>False</td>\n",
       "      <td>False</td>\n",
       "      <td>False</td>\n",
       "      <td>False</td>\n",
       "      <td>False</td>\n",
       "      <td>False</td>\n",
       "      <td>True</td>\n",
       "      <td>False</td>\n",
       "      <td>False</td>\n",
       "    </tr>\n",
       "  </tbody>\n",
       "</table>\n",
       "<p>729 rows × 117 columns</p>\n",
       "</div>"
      ],
      "text/plain": [
       "      LevelOfStudy  CGPA  Gender_Male  MaritalStatus_Married  \\\n",
       "0              500     1         True                  False   \n",
       "1              500     1         True                  False   \n",
       "2              300     0         True                  False   \n",
       "3              500     0        False                  False   \n",
       "4              200     0         True                  False   \n",
       "..             ...   ...          ...                    ...   \n",
       "724            300     0         True                  False   \n",
       "725            500     0         True                  False   \n",
       "726            200     1        False                  False   \n",
       "727            300     0         True                  False   \n",
       "728            400     0         True                  False   \n",
       "\n",
       "     MaritalStatus_Single  MaritalStatus_Widowed  Age_21-25  Age_26-30  \\\n",
       "0                    True                  False      False      False   \n",
       "1                    True                  False      False      False   \n",
       "2                    True                  False       True      False   \n",
       "3                    True                  False       True      False   \n",
       "4                    True                  False      False      False   \n",
       "..                    ...                    ...        ...        ...   \n",
       "724                  True                  False       True      False   \n",
       "725                  True                  False       True      False   \n",
       "726                  True                  False      False      False   \n",
       "727                  True                  False      False       True   \n",
       "728                  True                  False      False       True   \n",
       "\n",
       "     Age_31-35  Age_36 or above  ...  LecAbsFreq_Disagree  \\\n",
       "0         True            False  ...                 True   \n",
       "1         True            False  ...                False   \n",
       "2        False            False  ...                False   \n",
       "3        False            False  ...                 True   \n",
       "4        False            False  ...                False   \n",
       "..         ...              ...  ...                  ...   \n",
       "724      False            False  ...                False   \n",
       "725      False            False  ...                False   \n",
       "726      False            False  ...                False   \n",
       "727      False            False  ...                False   \n",
       "728      False            False  ...                False   \n",
       "\n",
       "     LecAbsFreq_Strongly agree  LecAbsFreq_Strongly disagree  \\\n",
       "0                        False                         False   \n",
       "1                        False                         False   \n",
       "2                        False                         False   \n",
       "3                        False                         False   \n",
       "4                        False                          True   \n",
       "..                         ...                           ...   \n",
       "724                      False                         False   \n",
       "725                      False                         False   \n",
       "726                      False                         False   \n",
       "727                       True                         False   \n",
       "728                      False                         False   \n",
       "\n",
       "     LecPuctuality_Disagree  LecPuctuality_Strongly agree  \\\n",
       "0                     False                         False   \n",
       "1                     False                         False   \n",
       "2                     False                          True   \n",
       "3                      True                         False   \n",
       "4                      True                         False   \n",
       "..                      ...                           ...   \n",
       "724                    True                         False   \n",
       "725                   False                         False   \n",
       "726                   False                         False   \n",
       "727                    True                         False   \n",
       "728                   False                         False   \n",
       "\n",
       "     LecPuctuality_Strongly disagree  TeachExperience_Excellent  \\\n",
       "0                              False                      False   \n",
       "1                              False                      False   \n",
       "2                              False                       True   \n",
       "3                              False                       True   \n",
       "4                              False                      False   \n",
       "..                               ...                        ...   \n",
       "724                            False                       True   \n",
       "725                            False                      False   \n",
       "726                            False                      False   \n",
       "727                            False                      False   \n",
       "728                            False                      False   \n",
       "\n",
       "     TeachExperience_Good  TeachExperience_Poor  TeachExperience_Very poor  \n",
       "0                    True                 False                      False  \n",
       "1                    True                 False                      False  \n",
       "2                   False                 False                      False  \n",
       "3                   False                 False                      False  \n",
       "4                    True                 False                      False  \n",
       "..                    ...                   ...                        ...  \n",
       "724                 False                 False                      False  \n",
       "725                 False                 False                      False  \n",
       "726                 False                 False                      False  \n",
       "727                  True                 False                      False  \n",
       "728                  True                 False                      False  \n",
       "\n",
       "[729 rows x 117 columns]"
      ]
     },
     "execution_count": 186,
     "metadata": {},
     "output_type": "execute_result"
    }
   ],
   "source": [
    "StudentAcadPerformance=pd.get_dummies(StudentAcadPerformance, drop_first=True)\n",
    "StudentAcadPerformance"
   ]
  },
  {
   "cell_type": "code",
   "execution_count": 187,
   "id": "09a20334-1027-45c6-b15d-ccfbc6e0049b",
   "metadata": {
    "scrolled": true
   },
   "outputs": [
    {
     "data": {
      "text/html": [
       "<div>\n",
       "<style scoped>\n",
       "    .dataframe tbody tr th:only-of-type {\n",
       "        vertical-align: middle;\n",
       "    }\n",
       "\n",
       "    .dataframe tbody tr th {\n",
       "        vertical-align: top;\n",
       "    }\n",
       "\n",
       "    .dataframe thead th {\n",
       "        text-align: right;\n",
       "    }\n",
       "</style>\n",
       "<table border=\"1\" class=\"dataframe\">\n",
       "  <thead>\n",
       "    <tr style=\"text-align: right;\">\n",
       "      <th></th>\n",
       "      <th>LevelOfStudy</th>\n",
       "      <th>CGPA</th>\n",
       "      <th>Gender_Male</th>\n",
       "      <th>MaritalStatus_Married</th>\n",
       "      <th>MaritalStatus_Single</th>\n",
       "      <th>MaritalStatus_Widowed</th>\n",
       "      <th>Age_21-25</th>\n",
       "      <th>Age_26-30</th>\n",
       "      <th>Age_31-35</th>\n",
       "      <th>Age_36 or above</th>\n",
       "      <th>...</th>\n",
       "      <th>LecAbsFreq_Disagree</th>\n",
       "      <th>LecAbsFreq_Strongly agree</th>\n",
       "      <th>LecAbsFreq_Strongly disagree</th>\n",
       "      <th>LecPuctuality_Disagree</th>\n",
       "      <th>LecPuctuality_Strongly agree</th>\n",
       "      <th>LecPuctuality_Strongly disagree</th>\n",
       "      <th>TeachExperience_Excellent</th>\n",
       "      <th>TeachExperience_Good</th>\n",
       "      <th>TeachExperience_Poor</th>\n",
       "      <th>TeachExperience_Very poor</th>\n",
       "    </tr>\n",
       "  </thead>\n",
       "  <tbody>\n",
       "    <tr>\n",
       "      <th>0</th>\n",
       "      <td>500</td>\n",
       "      <td>1</td>\n",
       "      <td>1</td>\n",
       "      <td>0</td>\n",
       "      <td>1</td>\n",
       "      <td>0</td>\n",
       "      <td>0</td>\n",
       "      <td>0</td>\n",
       "      <td>1</td>\n",
       "      <td>0</td>\n",
       "      <td>...</td>\n",
       "      <td>1</td>\n",
       "      <td>0</td>\n",
       "      <td>0</td>\n",
       "      <td>0</td>\n",
       "      <td>0</td>\n",
       "      <td>0</td>\n",
       "      <td>0</td>\n",
       "      <td>1</td>\n",
       "      <td>0</td>\n",
       "      <td>0</td>\n",
       "    </tr>\n",
       "    <tr>\n",
       "      <th>1</th>\n",
       "      <td>500</td>\n",
       "      <td>1</td>\n",
       "      <td>1</td>\n",
       "      <td>0</td>\n",
       "      <td>1</td>\n",
       "      <td>0</td>\n",
       "      <td>0</td>\n",
       "      <td>0</td>\n",
       "      <td>1</td>\n",
       "      <td>0</td>\n",
       "      <td>...</td>\n",
       "      <td>0</td>\n",
       "      <td>0</td>\n",
       "      <td>0</td>\n",
       "      <td>0</td>\n",
       "      <td>0</td>\n",
       "      <td>0</td>\n",
       "      <td>0</td>\n",
       "      <td>1</td>\n",
       "      <td>0</td>\n",
       "      <td>0</td>\n",
       "    </tr>\n",
       "    <tr>\n",
       "      <th>2</th>\n",
       "      <td>300</td>\n",
       "      <td>0</td>\n",
       "      <td>1</td>\n",
       "      <td>0</td>\n",
       "      <td>1</td>\n",
       "      <td>0</td>\n",
       "      <td>1</td>\n",
       "      <td>0</td>\n",
       "      <td>0</td>\n",
       "      <td>0</td>\n",
       "      <td>...</td>\n",
       "      <td>0</td>\n",
       "      <td>0</td>\n",
       "      <td>0</td>\n",
       "      <td>0</td>\n",
       "      <td>1</td>\n",
       "      <td>0</td>\n",
       "      <td>1</td>\n",
       "      <td>0</td>\n",
       "      <td>0</td>\n",
       "      <td>0</td>\n",
       "    </tr>\n",
       "    <tr>\n",
       "      <th>3</th>\n",
       "      <td>500</td>\n",
       "      <td>0</td>\n",
       "      <td>0</td>\n",
       "      <td>0</td>\n",
       "      <td>1</td>\n",
       "      <td>0</td>\n",
       "      <td>1</td>\n",
       "      <td>0</td>\n",
       "      <td>0</td>\n",
       "      <td>0</td>\n",
       "      <td>...</td>\n",
       "      <td>1</td>\n",
       "      <td>0</td>\n",
       "      <td>0</td>\n",
       "      <td>1</td>\n",
       "      <td>0</td>\n",
       "      <td>0</td>\n",
       "      <td>1</td>\n",
       "      <td>0</td>\n",
       "      <td>0</td>\n",
       "      <td>0</td>\n",
       "    </tr>\n",
       "    <tr>\n",
       "      <th>4</th>\n",
       "      <td>200</td>\n",
       "      <td>0</td>\n",
       "      <td>1</td>\n",
       "      <td>0</td>\n",
       "      <td>1</td>\n",
       "      <td>0</td>\n",
       "      <td>0</td>\n",
       "      <td>0</td>\n",
       "      <td>0</td>\n",
       "      <td>0</td>\n",
       "      <td>...</td>\n",
       "      <td>0</td>\n",
       "      <td>0</td>\n",
       "      <td>1</td>\n",
       "      <td>1</td>\n",
       "      <td>0</td>\n",
       "      <td>0</td>\n",
       "      <td>0</td>\n",
       "      <td>1</td>\n",
       "      <td>0</td>\n",
       "      <td>0</td>\n",
       "    </tr>\n",
       "    <tr>\n",
       "      <th>...</th>\n",
       "      <td>...</td>\n",
       "      <td>...</td>\n",
       "      <td>...</td>\n",
       "      <td>...</td>\n",
       "      <td>...</td>\n",
       "      <td>...</td>\n",
       "      <td>...</td>\n",
       "      <td>...</td>\n",
       "      <td>...</td>\n",
       "      <td>...</td>\n",
       "      <td>...</td>\n",
       "      <td>...</td>\n",
       "      <td>...</td>\n",
       "      <td>...</td>\n",
       "      <td>...</td>\n",
       "      <td>...</td>\n",
       "      <td>...</td>\n",
       "      <td>...</td>\n",
       "      <td>...</td>\n",
       "      <td>...</td>\n",
       "      <td>...</td>\n",
       "    </tr>\n",
       "    <tr>\n",
       "      <th>724</th>\n",
       "      <td>300</td>\n",
       "      <td>0</td>\n",
       "      <td>1</td>\n",
       "      <td>0</td>\n",
       "      <td>1</td>\n",
       "      <td>0</td>\n",
       "      <td>1</td>\n",
       "      <td>0</td>\n",
       "      <td>0</td>\n",
       "      <td>0</td>\n",
       "      <td>...</td>\n",
       "      <td>0</td>\n",
       "      <td>0</td>\n",
       "      <td>0</td>\n",
       "      <td>1</td>\n",
       "      <td>0</td>\n",
       "      <td>0</td>\n",
       "      <td>1</td>\n",
       "      <td>0</td>\n",
       "      <td>0</td>\n",
       "      <td>0</td>\n",
       "    </tr>\n",
       "    <tr>\n",
       "      <th>725</th>\n",
       "      <td>500</td>\n",
       "      <td>0</td>\n",
       "      <td>1</td>\n",
       "      <td>0</td>\n",
       "      <td>1</td>\n",
       "      <td>0</td>\n",
       "      <td>1</td>\n",
       "      <td>0</td>\n",
       "      <td>0</td>\n",
       "      <td>0</td>\n",
       "      <td>...</td>\n",
       "      <td>0</td>\n",
       "      <td>0</td>\n",
       "      <td>0</td>\n",
       "      <td>0</td>\n",
       "      <td>0</td>\n",
       "      <td>0</td>\n",
       "      <td>0</td>\n",
       "      <td>0</td>\n",
       "      <td>0</td>\n",
       "      <td>0</td>\n",
       "    </tr>\n",
       "    <tr>\n",
       "      <th>726</th>\n",
       "      <td>200</td>\n",
       "      <td>1</td>\n",
       "      <td>0</td>\n",
       "      <td>0</td>\n",
       "      <td>1</td>\n",
       "      <td>0</td>\n",
       "      <td>0</td>\n",
       "      <td>0</td>\n",
       "      <td>0</td>\n",
       "      <td>0</td>\n",
       "      <td>...</td>\n",
       "      <td>0</td>\n",
       "      <td>0</td>\n",
       "      <td>0</td>\n",
       "      <td>0</td>\n",
       "      <td>0</td>\n",
       "      <td>0</td>\n",
       "      <td>0</td>\n",
       "      <td>0</td>\n",
       "      <td>0</td>\n",
       "      <td>0</td>\n",
       "    </tr>\n",
       "    <tr>\n",
       "      <th>727</th>\n",
       "      <td>300</td>\n",
       "      <td>0</td>\n",
       "      <td>1</td>\n",
       "      <td>0</td>\n",
       "      <td>1</td>\n",
       "      <td>0</td>\n",
       "      <td>0</td>\n",
       "      <td>1</td>\n",
       "      <td>0</td>\n",
       "      <td>0</td>\n",
       "      <td>...</td>\n",
       "      <td>0</td>\n",
       "      <td>1</td>\n",
       "      <td>0</td>\n",
       "      <td>1</td>\n",
       "      <td>0</td>\n",
       "      <td>0</td>\n",
       "      <td>0</td>\n",
       "      <td>1</td>\n",
       "      <td>0</td>\n",
       "      <td>0</td>\n",
       "    </tr>\n",
       "    <tr>\n",
       "      <th>728</th>\n",
       "      <td>400</td>\n",
       "      <td>0</td>\n",
       "      <td>1</td>\n",
       "      <td>0</td>\n",
       "      <td>1</td>\n",
       "      <td>0</td>\n",
       "      <td>0</td>\n",
       "      <td>1</td>\n",
       "      <td>0</td>\n",
       "      <td>0</td>\n",
       "      <td>...</td>\n",
       "      <td>0</td>\n",
       "      <td>0</td>\n",
       "      <td>0</td>\n",
       "      <td>0</td>\n",
       "      <td>0</td>\n",
       "      <td>0</td>\n",
       "      <td>0</td>\n",
       "      <td>1</td>\n",
       "      <td>0</td>\n",
       "      <td>0</td>\n",
       "    </tr>\n",
       "  </tbody>\n",
       "</table>\n",
       "<p>729 rows × 117 columns</p>\n",
       "</div>"
      ],
      "text/plain": [
       "      LevelOfStudy  CGPA  Gender_Male  MaritalStatus_Married  \\\n",
       "0              500     1            1                      0   \n",
       "1              500     1            1                      0   \n",
       "2              300     0            1                      0   \n",
       "3              500     0            0                      0   \n",
       "4              200     0            1                      0   \n",
       "..             ...   ...          ...                    ...   \n",
       "724            300     0            1                      0   \n",
       "725            500     0            1                      0   \n",
       "726            200     1            0                      0   \n",
       "727            300     0            1                      0   \n",
       "728            400     0            1                      0   \n",
       "\n",
       "     MaritalStatus_Single  MaritalStatus_Widowed  Age_21-25  Age_26-30  \\\n",
       "0                       1                      0          0          0   \n",
       "1                       1                      0          0          0   \n",
       "2                       1                      0          1          0   \n",
       "3                       1                      0          1          0   \n",
       "4                       1                      0          0          0   \n",
       "..                    ...                    ...        ...        ...   \n",
       "724                     1                      0          1          0   \n",
       "725                     1                      0          1          0   \n",
       "726                     1                      0          0          0   \n",
       "727                     1                      0          0          1   \n",
       "728                     1                      0          0          1   \n",
       "\n",
       "     Age_31-35  Age_36 or above  ...  LecAbsFreq_Disagree  \\\n",
       "0            1                0  ...                    1   \n",
       "1            1                0  ...                    0   \n",
       "2            0                0  ...                    0   \n",
       "3            0                0  ...                    1   \n",
       "4            0                0  ...                    0   \n",
       "..         ...              ...  ...                  ...   \n",
       "724          0                0  ...                    0   \n",
       "725          0                0  ...                    0   \n",
       "726          0                0  ...                    0   \n",
       "727          0                0  ...                    0   \n",
       "728          0                0  ...                    0   \n",
       "\n",
       "     LecAbsFreq_Strongly agree  LecAbsFreq_Strongly disagree  \\\n",
       "0                            0                             0   \n",
       "1                            0                             0   \n",
       "2                            0                             0   \n",
       "3                            0                             0   \n",
       "4                            0                             1   \n",
       "..                         ...                           ...   \n",
       "724                          0                             0   \n",
       "725                          0                             0   \n",
       "726                          0                             0   \n",
       "727                          1                             0   \n",
       "728                          0                             0   \n",
       "\n",
       "     LecPuctuality_Disagree  LecPuctuality_Strongly agree  \\\n",
       "0                         0                             0   \n",
       "1                         0                             0   \n",
       "2                         0                             1   \n",
       "3                         1                             0   \n",
       "4                         1                             0   \n",
       "..                      ...                           ...   \n",
       "724                       1                             0   \n",
       "725                       0                             0   \n",
       "726                       0                             0   \n",
       "727                       1                             0   \n",
       "728                       0                             0   \n",
       "\n",
       "     LecPuctuality_Strongly disagree  TeachExperience_Excellent  \\\n",
       "0                                  0                          0   \n",
       "1                                  0                          0   \n",
       "2                                  0                          1   \n",
       "3                                  0                          1   \n",
       "4                                  0                          0   \n",
       "..                               ...                        ...   \n",
       "724                                0                          1   \n",
       "725                                0                          0   \n",
       "726                                0                          0   \n",
       "727                                0                          0   \n",
       "728                                0                          0   \n",
       "\n",
       "     TeachExperience_Good  TeachExperience_Poor  TeachExperience_Very poor  \n",
       "0                       1                     0                          0  \n",
       "1                       1                     0                          0  \n",
       "2                       0                     0                          0  \n",
       "3                       0                     0                          0  \n",
       "4                       1                     0                          0  \n",
       "..                    ...                   ...                        ...  \n",
       "724                     0                     0                          0  \n",
       "725                     0                     0                          0  \n",
       "726                     0                     0                          0  \n",
       "727                     1                     0                          0  \n",
       "728                     1                     0                          0  \n",
       "\n",
       "[729 rows x 117 columns]"
      ]
     },
     "execution_count": 187,
     "metadata": {},
     "output_type": "execute_result"
    }
   ],
   "source": [
    "StudentAcadPerformance=StudentAcadPerformance.replace([True,False],[1,0])\n",
    "StudentAcadPerformance"
   ]
  },
  {
   "cell_type": "code",
   "execution_count": 165,
   "id": "3e1d81aa-46f6-4da8-804a-1be81d014938",
   "metadata": {},
   "outputs": [],
   "source": [
    "# FiveAttribut=[col for col in StudentAcadPerformance.columns if StudentAcadPerformance[col].nunique()==5]\n",
    "# filter=StudentAcadPerformance[FiveAttribut]\n",
    "# filter"
   ]
  },
  {
   "cell_type": "code",
   "execution_count": 188,
   "id": "84d98493-7b0a-48e8-80d0-e24b2116efea",
   "metadata": {},
   "outputs": [
    {
     "data": {
      "text/html": [
       "<div>\n",
       "<style scoped>\n",
       "    .dataframe tbody tr th:only-of-type {\n",
       "        vertical-align: middle;\n",
       "    }\n",
       "\n",
       "    .dataframe tbody tr th {\n",
       "        vertical-align: top;\n",
       "    }\n",
       "\n",
       "    .dataframe thead th {\n",
       "        text-align: right;\n",
       "    }\n",
       "</style>\n",
       "<table border=\"1\" class=\"dataframe\">\n",
       "  <thead>\n",
       "    <tr style=\"text-align: right;\">\n",
       "      <th></th>\n",
       "      <th>LevelOfStudy</th>\n",
       "      <th>CGPA</th>\n",
       "      <th>Gender_Male</th>\n",
       "      <th>MaritalStatus_Married</th>\n",
       "      <th>MaritalStatus_Single</th>\n",
       "      <th>MaritalStatus_Widowed</th>\n",
       "      <th>Age_21-25</th>\n",
       "      <th>Age_26-30</th>\n",
       "      <th>Age_31-35</th>\n",
       "      <th>Age_36 or above</th>\n",
       "      <th>...</th>\n",
       "      <th>LecAbsFreq_Disagree</th>\n",
       "      <th>LecAbsFreq_Strongly agree</th>\n",
       "      <th>LecAbsFreq_Strongly disagree</th>\n",
       "      <th>LecPuctuality_Disagree</th>\n",
       "      <th>LecPuctuality_Strongly agree</th>\n",
       "      <th>LecPuctuality_Strongly disagree</th>\n",
       "      <th>TeachExperience_Excellent</th>\n",
       "      <th>TeachExperience_Good</th>\n",
       "      <th>TeachExperience_Poor</th>\n",
       "      <th>TeachExperience_Very poor</th>\n",
       "    </tr>\n",
       "  </thead>\n",
       "  <tbody>\n",
       "    <tr>\n",
       "      <th>0</th>\n",
       "      <td>500</td>\n",
       "      <td>1</td>\n",
       "      <td>1</td>\n",
       "      <td>0</td>\n",
       "      <td>1</td>\n",
       "      <td>0</td>\n",
       "      <td>0</td>\n",
       "      <td>0</td>\n",
       "      <td>1</td>\n",
       "      <td>0</td>\n",
       "      <td>...</td>\n",
       "      <td>1</td>\n",
       "      <td>0</td>\n",
       "      <td>0</td>\n",
       "      <td>0</td>\n",
       "      <td>0</td>\n",
       "      <td>0</td>\n",
       "      <td>0</td>\n",
       "      <td>1</td>\n",
       "      <td>0</td>\n",
       "      <td>0</td>\n",
       "    </tr>\n",
       "    <tr>\n",
       "      <th>1</th>\n",
       "      <td>500</td>\n",
       "      <td>1</td>\n",
       "      <td>1</td>\n",
       "      <td>0</td>\n",
       "      <td>1</td>\n",
       "      <td>0</td>\n",
       "      <td>0</td>\n",
       "      <td>0</td>\n",
       "      <td>1</td>\n",
       "      <td>0</td>\n",
       "      <td>...</td>\n",
       "      <td>0</td>\n",
       "      <td>0</td>\n",
       "      <td>0</td>\n",
       "      <td>0</td>\n",
       "      <td>0</td>\n",
       "      <td>0</td>\n",
       "      <td>0</td>\n",
       "      <td>1</td>\n",
       "      <td>0</td>\n",
       "      <td>0</td>\n",
       "    </tr>\n",
       "    <tr>\n",
       "      <th>2</th>\n",
       "      <td>300</td>\n",
       "      <td>0</td>\n",
       "      <td>1</td>\n",
       "      <td>0</td>\n",
       "      <td>1</td>\n",
       "      <td>0</td>\n",
       "      <td>1</td>\n",
       "      <td>0</td>\n",
       "      <td>0</td>\n",
       "      <td>0</td>\n",
       "      <td>...</td>\n",
       "      <td>0</td>\n",
       "      <td>0</td>\n",
       "      <td>0</td>\n",
       "      <td>0</td>\n",
       "      <td>1</td>\n",
       "      <td>0</td>\n",
       "      <td>1</td>\n",
       "      <td>0</td>\n",
       "      <td>0</td>\n",
       "      <td>0</td>\n",
       "    </tr>\n",
       "    <tr>\n",
       "      <th>3</th>\n",
       "      <td>500</td>\n",
       "      <td>0</td>\n",
       "      <td>0</td>\n",
       "      <td>0</td>\n",
       "      <td>1</td>\n",
       "      <td>0</td>\n",
       "      <td>1</td>\n",
       "      <td>0</td>\n",
       "      <td>0</td>\n",
       "      <td>0</td>\n",
       "      <td>...</td>\n",
       "      <td>1</td>\n",
       "      <td>0</td>\n",
       "      <td>0</td>\n",
       "      <td>1</td>\n",
       "      <td>0</td>\n",
       "      <td>0</td>\n",
       "      <td>1</td>\n",
       "      <td>0</td>\n",
       "      <td>0</td>\n",
       "      <td>0</td>\n",
       "    </tr>\n",
       "    <tr>\n",
       "      <th>4</th>\n",
       "      <td>200</td>\n",
       "      <td>0</td>\n",
       "      <td>1</td>\n",
       "      <td>0</td>\n",
       "      <td>1</td>\n",
       "      <td>0</td>\n",
       "      <td>0</td>\n",
       "      <td>0</td>\n",
       "      <td>0</td>\n",
       "      <td>0</td>\n",
       "      <td>...</td>\n",
       "      <td>0</td>\n",
       "      <td>0</td>\n",
       "      <td>1</td>\n",
       "      <td>1</td>\n",
       "      <td>0</td>\n",
       "      <td>0</td>\n",
       "      <td>0</td>\n",
       "      <td>1</td>\n",
       "      <td>0</td>\n",
       "      <td>0</td>\n",
       "    </tr>\n",
       "    <tr>\n",
       "      <th>...</th>\n",
       "      <td>...</td>\n",
       "      <td>...</td>\n",
       "      <td>...</td>\n",
       "      <td>...</td>\n",
       "      <td>...</td>\n",
       "      <td>...</td>\n",
       "      <td>...</td>\n",
       "      <td>...</td>\n",
       "      <td>...</td>\n",
       "      <td>...</td>\n",
       "      <td>...</td>\n",
       "      <td>...</td>\n",
       "      <td>...</td>\n",
       "      <td>...</td>\n",
       "      <td>...</td>\n",
       "      <td>...</td>\n",
       "      <td>...</td>\n",
       "      <td>...</td>\n",
       "      <td>...</td>\n",
       "      <td>...</td>\n",
       "      <td>...</td>\n",
       "    </tr>\n",
       "    <tr>\n",
       "      <th>724</th>\n",
       "      <td>300</td>\n",
       "      <td>0</td>\n",
       "      <td>1</td>\n",
       "      <td>0</td>\n",
       "      <td>1</td>\n",
       "      <td>0</td>\n",
       "      <td>1</td>\n",
       "      <td>0</td>\n",
       "      <td>0</td>\n",
       "      <td>0</td>\n",
       "      <td>...</td>\n",
       "      <td>0</td>\n",
       "      <td>0</td>\n",
       "      <td>0</td>\n",
       "      <td>1</td>\n",
       "      <td>0</td>\n",
       "      <td>0</td>\n",
       "      <td>1</td>\n",
       "      <td>0</td>\n",
       "      <td>0</td>\n",
       "      <td>0</td>\n",
       "    </tr>\n",
       "    <tr>\n",
       "      <th>725</th>\n",
       "      <td>500</td>\n",
       "      <td>0</td>\n",
       "      <td>1</td>\n",
       "      <td>0</td>\n",
       "      <td>1</td>\n",
       "      <td>0</td>\n",
       "      <td>1</td>\n",
       "      <td>0</td>\n",
       "      <td>0</td>\n",
       "      <td>0</td>\n",
       "      <td>...</td>\n",
       "      <td>0</td>\n",
       "      <td>0</td>\n",
       "      <td>0</td>\n",
       "      <td>0</td>\n",
       "      <td>0</td>\n",
       "      <td>0</td>\n",
       "      <td>0</td>\n",
       "      <td>0</td>\n",
       "      <td>0</td>\n",
       "      <td>0</td>\n",
       "    </tr>\n",
       "    <tr>\n",
       "      <th>726</th>\n",
       "      <td>200</td>\n",
       "      <td>1</td>\n",
       "      <td>0</td>\n",
       "      <td>0</td>\n",
       "      <td>1</td>\n",
       "      <td>0</td>\n",
       "      <td>0</td>\n",
       "      <td>0</td>\n",
       "      <td>0</td>\n",
       "      <td>0</td>\n",
       "      <td>...</td>\n",
       "      <td>0</td>\n",
       "      <td>0</td>\n",
       "      <td>0</td>\n",
       "      <td>0</td>\n",
       "      <td>0</td>\n",
       "      <td>0</td>\n",
       "      <td>0</td>\n",
       "      <td>0</td>\n",
       "      <td>0</td>\n",
       "      <td>0</td>\n",
       "    </tr>\n",
       "    <tr>\n",
       "      <th>727</th>\n",
       "      <td>300</td>\n",
       "      <td>0</td>\n",
       "      <td>1</td>\n",
       "      <td>0</td>\n",
       "      <td>1</td>\n",
       "      <td>0</td>\n",
       "      <td>0</td>\n",
       "      <td>1</td>\n",
       "      <td>0</td>\n",
       "      <td>0</td>\n",
       "      <td>...</td>\n",
       "      <td>0</td>\n",
       "      <td>1</td>\n",
       "      <td>0</td>\n",
       "      <td>1</td>\n",
       "      <td>0</td>\n",
       "      <td>0</td>\n",
       "      <td>0</td>\n",
       "      <td>1</td>\n",
       "      <td>0</td>\n",
       "      <td>0</td>\n",
       "    </tr>\n",
       "    <tr>\n",
       "      <th>728</th>\n",
       "      <td>400</td>\n",
       "      <td>0</td>\n",
       "      <td>1</td>\n",
       "      <td>0</td>\n",
       "      <td>1</td>\n",
       "      <td>0</td>\n",
       "      <td>0</td>\n",
       "      <td>1</td>\n",
       "      <td>0</td>\n",
       "      <td>0</td>\n",
       "      <td>...</td>\n",
       "      <td>0</td>\n",
       "      <td>0</td>\n",
       "      <td>0</td>\n",
       "      <td>0</td>\n",
       "      <td>0</td>\n",
       "      <td>0</td>\n",
       "      <td>0</td>\n",
       "      <td>1</td>\n",
       "      <td>0</td>\n",
       "      <td>0</td>\n",
       "    </tr>\n",
       "  </tbody>\n",
       "</table>\n",
       "<p>729 rows × 117 columns</p>\n",
       "</div>"
      ],
      "text/plain": [
       "      LevelOfStudy  CGPA  Gender_Male  MaritalStatus_Married  \\\n",
       "0              500     1            1                      0   \n",
       "1              500     1            1                      0   \n",
       "2              300     0            1                      0   \n",
       "3              500     0            0                      0   \n",
       "4              200     0            1                      0   \n",
       "..             ...   ...          ...                    ...   \n",
       "724            300     0            1                      0   \n",
       "725            500     0            1                      0   \n",
       "726            200     1            0                      0   \n",
       "727            300     0            1                      0   \n",
       "728            400     0            1                      0   \n",
       "\n",
       "     MaritalStatus_Single  MaritalStatus_Widowed  Age_21-25  Age_26-30  \\\n",
       "0                       1                      0          0          0   \n",
       "1                       1                      0          0          0   \n",
       "2                       1                      0          1          0   \n",
       "3                       1                      0          1          0   \n",
       "4                       1                      0          0          0   \n",
       "..                    ...                    ...        ...        ...   \n",
       "724                     1                      0          1          0   \n",
       "725                     1                      0          1          0   \n",
       "726                     1                      0          0          0   \n",
       "727                     1                      0          0          1   \n",
       "728                     1                      0          0          1   \n",
       "\n",
       "     Age_31-35  Age_36 or above  ...  LecAbsFreq_Disagree  \\\n",
       "0            1                0  ...                    1   \n",
       "1            1                0  ...                    0   \n",
       "2            0                0  ...                    0   \n",
       "3            0                0  ...                    1   \n",
       "4            0                0  ...                    0   \n",
       "..         ...              ...  ...                  ...   \n",
       "724          0                0  ...                    0   \n",
       "725          0                0  ...                    0   \n",
       "726          0                0  ...                    0   \n",
       "727          0                0  ...                    0   \n",
       "728          0                0  ...                    0   \n",
       "\n",
       "     LecAbsFreq_Strongly agree  LecAbsFreq_Strongly disagree  \\\n",
       "0                            0                             0   \n",
       "1                            0                             0   \n",
       "2                            0                             0   \n",
       "3                            0                             0   \n",
       "4                            0                             1   \n",
       "..                         ...                           ...   \n",
       "724                          0                             0   \n",
       "725                          0                             0   \n",
       "726                          0                             0   \n",
       "727                          1                             0   \n",
       "728                          0                             0   \n",
       "\n",
       "     LecPuctuality_Disagree  LecPuctuality_Strongly agree  \\\n",
       "0                         0                             0   \n",
       "1                         0                             0   \n",
       "2                         0                             1   \n",
       "3                         1                             0   \n",
       "4                         1                             0   \n",
       "..                      ...                           ...   \n",
       "724                       1                             0   \n",
       "725                       0                             0   \n",
       "726                       0                             0   \n",
       "727                       1                             0   \n",
       "728                       0                             0   \n",
       "\n",
       "     LecPuctuality_Strongly disagree  TeachExperience_Excellent  \\\n",
       "0                                  0                          0   \n",
       "1                                  0                          0   \n",
       "2                                  0                          1   \n",
       "3                                  0                          1   \n",
       "4                                  0                          0   \n",
       "..                               ...                        ...   \n",
       "724                                0                          1   \n",
       "725                                0                          0   \n",
       "726                                0                          0   \n",
       "727                                0                          0   \n",
       "728                                0                          0   \n",
       "\n",
       "     TeachExperience_Good  TeachExperience_Poor  TeachExperience_Very poor  \n",
       "0                       1                     0                          0  \n",
       "1                       1                     0                          0  \n",
       "2                       0                     0                          0  \n",
       "3                       0                     0                          0  \n",
       "4                       1                     0                          0  \n",
       "..                    ...                   ...                        ...  \n",
       "724                     0                     0                          0  \n",
       "725                     0                     0                          0  \n",
       "726                     0                     0                          0  \n",
       "727                     1                     0                          0  \n",
       "728                     1                     0                          0  \n",
       "\n",
       "[729 rows x 117 columns]"
      ]
     },
     "execution_count": 188,
     "metadata": {},
     "output_type": "execute_result"
    }
   ],
   "source": [
    "StudentAcadPerformance=StudentAcadPerformance.replace([True,False],[1,0])\n",
    "StudentAcadPerformance"
   ]
  },
  {
   "cell_type": "code",
   "execution_count": 161,
   "id": "85a8547a-2ebe-4880-b4d5-dc2c9324a376",
   "metadata": {},
   "outputs": [],
   "source": [
    "# for col in filter:\n",
    "#     sequence =np.tile([1,2,3,4,5], int(np.ceil(len(StudentAcadPerformbance)/5)))[:len (StudentAcadPerformance)]\n",
    "#     StudentAcadPerformance[col]= sequence\n",
    "#     StudentAcadPerformance"
   ]
  },
  {
   "cell_type": "code",
   "execution_count": null,
   "id": "67f7671a-35a8-4319-956b-037cccdde6e3",
   "metadata": {},
   "outputs": [],
   "source": []
  },
  {
   "cell_type": "code",
   "execution_count": 162,
   "id": "5d379d50-d127-46aa-8512-38321a6dd8b8",
   "metadata": {},
   "outputs": [],
   "source": [
    "# string = StudentAcadPerformance.select_dtypes(include=['object']).columns\n",
    "# for col in filter :\n",
    "#     unique_values = StudentAcadPerformance[col].unique()\n",
    "#     mapping ={unique_values[i]: i +1 for i in range (len(unique_values))}\n",
    "#     StudentAcadPerformance[col]=StudentAcadPerformance[col].map(mapping)"
   ]
  },
  {
   "cell_type": "code",
   "execution_count": 170,
   "id": "42ea8686-1e96-44a3-9142-2fd8c9e29bac",
   "metadata": {},
   "outputs": [],
   "source": [
    "# Modelling\n",
    "from sklearn.model_selection import train_test_split\n",
    "from sklearn.preprocessing import StandardScaler\n",
    "from sklearn.naive_bayes import GaussianNB\n",
    "from sklearn.metrics import accuracy_score, classification_report"
   ]
  },
  {
   "cell_type": "code",
   "execution_count": 190,
   "id": "737ae7c4-52e0-4885-9fa0-29d7da6331b6",
   "metadata": {},
   "outputs": [
    {
     "data": {
      "text/plain": [
       "0      1\n",
       "1      1\n",
       "2      0\n",
       "3      0\n",
       "4      0\n",
       "      ..\n",
       "724    0\n",
       "725    0\n",
       "726    1\n",
       "727    0\n",
       "728    0\n",
       "Name: CGPA, Length: 729, dtype: int64"
      ]
     },
     "execution_count": 190,
     "metadata": {},
     "output_type": "execute_result"
    }
   ],
   "source": [
    "y=StudentAcadPerformance['CGPA']\n",
    "X = StudentAcadPerformance.drop(columns=['CGPA'],axis=1)\n",
    "y"
   ]
  },
  {
   "cell_type": "code",
   "execution_count": 191,
   "id": "3fba3e21-d2c6-4837-bbf4-6fd957b6fb65",
   "metadata": {},
   "outputs": [
    {
     "data": {
      "text/plain": [
       "((510, 116), (219, 116))"
      ]
     },
     "execution_count": 191,
     "metadata": {},
     "output_type": "execute_result"
    }
   ],
   "source": [
    "X_train, X_test, y_train, y_test = train_test_split(X, y, test_size=0.3, random_state=42)\n",
    "X_train.shape, X_test.shape"
   ]
  },
  {
   "cell_type": "code",
   "execution_count": 224,
   "id": "ce390ff9-c776-4af1-8fd6-ebb201db9709",
   "metadata": {},
   "outputs": [],
   "source": [
    "from sklearn.naive_bayes import GaussianNB"
   ]
  },
  {
   "cell_type": "markdown",
   "id": "abef7ad4-10fd-4bc0-93d7-414f92879d1e",
   "metadata": {},
   "source": [
    "## Training my Model "
   ]
  },
  {
   "cell_type": "code",
   "execution_count": 193,
   "id": "bb08a284-ee45-4c3f-9d26-5b27f8db08b0",
   "metadata": {},
   "outputs": [],
   "source": [
    "model =GaussianNB()"
   ]
  },
  {
   "cell_type": "markdown",
   "id": "9ef43334-cffd-467e-916a-bdf71d9b18bd",
   "metadata": {},
   "source": [
    "model.fit(X_train,y_train)"
   ]
  },
  {
   "cell_type": "code",
   "execution_count": 196,
   "id": "4db8673e-ceb9-4631-886e-b7af9e9ccde6",
   "metadata": {},
   "outputs": [
    {
     "data": {
      "text/html": [
       "<style>#sk-container-id-1 {color: black;background-color: white;}#sk-container-id-1 pre{padding: 0;}#sk-container-id-1 div.sk-toggleable {background-color: white;}#sk-container-id-1 label.sk-toggleable__label {cursor: pointer;display: block;width: 100%;margin-bottom: 0;padding: 0.3em;box-sizing: border-box;text-align: center;}#sk-container-id-1 label.sk-toggleable__label-arrow:before {content: \"▸\";float: left;margin-right: 0.25em;color: #696969;}#sk-container-id-1 label.sk-toggleable__label-arrow:hover:before {color: black;}#sk-container-id-1 div.sk-estimator:hover label.sk-toggleable__label-arrow:before {color: black;}#sk-container-id-1 div.sk-toggleable__content {max-height: 0;max-width: 0;overflow: hidden;text-align: left;background-color: #f0f8ff;}#sk-container-id-1 div.sk-toggleable__content pre {margin: 0.2em;color: black;border-radius: 0.25em;background-color: #f0f8ff;}#sk-container-id-1 input.sk-toggleable__control:checked~div.sk-toggleable__content {max-height: 200px;max-width: 100%;overflow: auto;}#sk-container-id-1 input.sk-toggleable__control:checked~label.sk-toggleable__label-arrow:before {content: \"▾\";}#sk-container-id-1 div.sk-estimator input.sk-toggleable__control:checked~label.sk-toggleable__label {background-color: #d4ebff;}#sk-container-id-1 div.sk-label input.sk-toggleable__control:checked~label.sk-toggleable__label {background-color: #d4ebff;}#sk-container-id-1 input.sk-hidden--visually {border: 0;clip: rect(1px 1px 1px 1px);clip: rect(1px, 1px, 1px, 1px);height: 1px;margin: -1px;overflow: hidden;padding: 0;position: absolute;width: 1px;}#sk-container-id-1 div.sk-estimator {font-family: monospace;background-color: #f0f8ff;border: 1px dotted black;border-radius: 0.25em;box-sizing: border-box;margin-bottom: 0.5em;}#sk-container-id-1 div.sk-estimator:hover {background-color: #d4ebff;}#sk-container-id-1 div.sk-parallel-item::after {content: \"\";width: 100%;border-bottom: 1px solid gray;flex-grow: 1;}#sk-container-id-1 div.sk-label:hover label.sk-toggleable__label {background-color: #d4ebff;}#sk-container-id-1 div.sk-serial::before {content: \"\";position: absolute;border-left: 1px solid gray;box-sizing: border-box;top: 0;bottom: 0;left: 50%;z-index: 0;}#sk-container-id-1 div.sk-serial {display: flex;flex-direction: column;align-items: center;background-color: white;padding-right: 0.2em;padding-left: 0.2em;position: relative;}#sk-container-id-1 div.sk-item {position: relative;z-index: 1;}#sk-container-id-1 div.sk-parallel {display: flex;align-items: stretch;justify-content: center;background-color: white;position: relative;}#sk-container-id-1 div.sk-item::before, #sk-container-id-1 div.sk-parallel-item::before {content: \"\";position: absolute;border-left: 1px solid gray;box-sizing: border-box;top: 0;bottom: 0;left: 50%;z-index: -1;}#sk-container-id-1 div.sk-parallel-item {display: flex;flex-direction: column;z-index: 1;position: relative;background-color: white;}#sk-container-id-1 div.sk-parallel-item:first-child::after {align-self: flex-end;width: 50%;}#sk-container-id-1 div.sk-parallel-item:last-child::after {align-self: flex-start;width: 50%;}#sk-container-id-1 div.sk-parallel-item:only-child::after {width: 0;}#sk-container-id-1 div.sk-dashed-wrapped {border: 1px dashed gray;margin: 0 0.4em 0.5em 0.4em;box-sizing: border-box;padding-bottom: 0.4em;background-color: white;}#sk-container-id-1 div.sk-label label {font-family: monospace;font-weight: bold;display: inline-block;line-height: 1.2em;}#sk-container-id-1 div.sk-label-container {text-align: center;}#sk-container-id-1 div.sk-container {/* jupyter's `normalize.less` sets `[hidden] { display: none; }` but bootstrap.min.css set `[hidden] { display: none !important; }` so we also need the `!important` here to be able to override the default hidden behavior on the sphinx rendered scikit-learn.org. See: https://github.com/scikit-learn/scikit-learn/issues/21755 */display: inline-block !important;position: relative;}#sk-container-id-1 div.sk-text-repr-fallback {display: none;}</style><div id=\"sk-container-id-1\" class=\"sk-top-container\"><div class=\"sk-text-repr-fallback\"><pre>GaussianNB()</pre><b>In a Jupyter environment, please rerun this cell to show the HTML representation or trust the notebook. <br />On GitHub, the HTML representation is unable to render, please try loading this page with nbviewer.org.</b></div><div class=\"sk-container\" hidden><div class=\"sk-item\"><div class=\"sk-estimator sk-toggleable\"><input class=\"sk-toggleable__control sk-hidden--visually\" id=\"sk-estimator-id-1\" type=\"checkbox\" checked><label for=\"sk-estimator-id-1\" class=\"sk-toggleable__label sk-toggleable__label-arrow\">GaussianNB</label><div class=\"sk-toggleable__content\"><pre>GaussianNB()</pre></div></div></div></div></div>"
      ],
      "text/plain": [
       "GaussianNB()"
      ]
     },
     "execution_count": 196,
     "metadata": {},
     "output_type": "execute_result"
    }
   ],
   "source": [
    "model.fit(X_train, y_train)"
   ]
  },
  {
   "cell_type": "code",
   "execution_count": 197,
   "id": "285b4cc1-062a-4c6d-be1f-f34053956fce",
   "metadata": {},
   "outputs": [],
   "source": [
    "predictions =model.predict(X_test)"
   ]
  },
  {
   "cell_type": "code",
   "execution_count": 204,
   "id": "a490d425-56bd-45bb-a87e-f0f08ca5ee58",
   "metadata": {},
   "outputs": [
    {
     "data": {
      "text/plain": [
       "0.5616438356164384"
      ]
     },
     "execution_count": 204,
     "metadata": {},
     "output_type": "execute_result"
    }
   ],
   "source": [
    "accuracy=accuracy_score(y_test, predictions)\n",
    "accuracy"
   ]
  },
  {
   "cell_type": "code",
   "execution_count": 205,
   "id": "02a4763e-ed25-4cd6-993b-c6fbb2627daf",
   "metadata": {},
   "outputs": [
    {
     "data": {
      "text/plain": [
       "'              precision    recall  f1-score   support\\n\\n           0       0.60      0.76      0.67       127\\n           1       0.46      0.28      0.35        92\\n\\n    accuracy                           0.56       219\\n   macro avg       0.53      0.52      0.51       219\\nweighted avg       0.54      0.56      0.54       219\\n'"
      ]
     },
     "execution_count": 205,
     "metadata": {},
     "output_type": "execute_result"
    }
   ],
   "source": [
    "classification_rep=classification_report(y_test, predictions)\n",
    "classification_rep"
   ]
  },
  {
   "cell_type": "markdown",
   "id": "fd424981-67b5-4c06-8efb-e7b1d796249b",
   "metadata": {},
   "source": [
    "### Random Forest Model"
   ]
  },
  {
   "cell_type": "code",
   "execution_count": 206,
   "id": "c3930e6c-9347-45c2-8113-6dbf11c3a76c",
   "metadata": {},
   "outputs": [],
   "source": [
    "from sklearn.ensemble import RandomForestClassifier"
   ]
  },
  {
   "cell_type": "code",
   "execution_count": 207,
   "id": "eff73738-73c9-43b1-8b12-08d37e8597b1",
   "metadata": {},
   "outputs": [],
   "source": [
    "rf_model =RandomForestClassifier(n_estimators=100, random_state=42)"
   ]
  },
  {
   "cell_type": "code",
   "execution_count": 208,
   "id": "55471e54-1b06-4923-bc32-f927c5bafcb3",
   "metadata": {},
   "outputs": [
    {
     "data": {
      "text/html": [
       "<style>#sk-container-id-2 {color: black;background-color: white;}#sk-container-id-2 pre{padding: 0;}#sk-container-id-2 div.sk-toggleable {background-color: white;}#sk-container-id-2 label.sk-toggleable__label {cursor: pointer;display: block;width: 100%;margin-bottom: 0;padding: 0.3em;box-sizing: border-box;text-align: center;}#sk-container-id-2 label.sk-toggleable__label-arrow:before {content: \"▸\";float: left;margin-right: 0.25em;color: #696969;}#sk-container-id-2 label.sk-toggleable__label-arrow:hover:before {color: black;}#sk-container-id-2 div.sk-estimator:hover label.sk-toggleable__label-arrow:before {color: black;}#sk-container-id-2 div.sk-toggleable__content {max-height: 0;max-width: 0;overflow: hidden;text-align: left;background-color: #f0f8ff;}#sk-container-id-2 div.sk-toggleable__content pre {margin: 0.2em;color: black;border-radius: 0.25em;background-color: #f0f8ff;}#sk-container-id-2 input.sk-toggleable__control:checked~div.sk-toggleable__content {max-height: 200px;max-width: 100%;overflow: auto;}#sk-container-id-2 input.sk-toggleable__control:checked~label.sk-toggleable__label-arrow:before {content: \"▾\";}#sk-container-id-2 div.sk-estimator input.sk-toggleable__control:checked~label.sk-toggleable__label {background-color: #d4ebff;}#sk-container-id-2 div.sk-label input.sk-toggleable__control:checked~label.sk-toggleable__label {background-color: #d4ebff;}#sk-container-id-2 input.sk-hidden--visually {border: 0;clip: rect(1px 1px 1px 1px);clip: rect(1px, 1px, 1px, 1px);height: 1px;margin: -1px;overflow: hidden;padding: 0;position: absolute;width: 1px;}#sk-container-id-2 div.sk-estimator {font-family: monospace;background-color: #f0f8ff;border: 1px dotted black;border-radius: 0.25em;box-sizing: border-box;margin-bottom: 0.5em;}#sk-container-id-2 div.sk-estimator:hover {background-color: #d4ebff;}#sk-container-id-2 div.sk-parallel-item::after {content: \"\";width: 100%;border-bottom: 1px solid gray;flex-grow: 1;}#sk-container-id-2 div.sk-label:hover label.sk-toggleable__label {background-color: #d4ebff;}#sk-container-id-2 div.sk-serial::before {content: \"\";position: absolute;border-left: 1px solid gray;box-sizing: border-box;top: 0;bottom: 0;left: 50%;z-index: 0;}#sk-container-id-2 div.sk-serial {display: flex;flex-direction: column;align-items: center;background-color: white;padding-right: 0.2em;padding-left: 0.2em;position: relative;}#sk-container-id-2 div.sk-item {position: relative;z-index: 1;}#sk-container-id-2 div.sk-parallel {display: flex;align-items: stretch;justify-content: center;background-color: white;position: relative;}#sk-container-id-2 div.sk-item::before, #sk-container-id-2 div.sk-parallel-item::before {content: \"\";position: absolute;border-left: 1px solid gray;box-sizing: border-box;top: 0;bottom: 0;left: 50%;z-index: -1;}#sk-container-id-2 div.sk-parallel-item {display: flex;flex-direction: column;z-index: 1;position: relative;background-color: white;}#sk-container-id-2 div.sk-parallel-item:first-child::after {align-self: flex-end;width: 50%;}#sk-container-id-2 div.sk-parallel-item:last-child::after {align-self: flex-start;width: 50%;}#sk-container-id-2 div.sk-parallel-item:only-child::after {width: 0;}#sk-container-id-2 div.sk-dashed-wrapped {border: 1px dashed gray;margin: 0 0.4em 0.5em 0.4em;box-sizing: border-box;padding-bottom: 0.4em;background-color: white;}#sk-container-id-2 div.sk-label label {font-family: monospace;font-weight: bold;display: inline-block;line-height: 1.2em;}#sk-container-id-2 div.sk-label-container {text-align: center;}#sk-container-id-2 div.sk-container {/* jupyter's `normalize.less` sets `[hidden] { display: none; }` but bootstrap.min.css set `[hidden] { display: none !important; }` so we also need the `!important` here to be able to override the default hidden behavior on the sphinx rendered scikit-learn.org. See: https://github.com/scikit-learn/scikit-learn/issues/21755 */display: inline-block !important;position: relative;}#sk-container-id-2 div.sk-text-repr-fallback {display: none;}</style><div id=\"sk-container-id-2\" class=\"sk-top-container\"><div class=\"sk-text-repr-fallback\"><pre>RandomForestClassifier(random_state=42)</pre><b>In a Jupyter environment, please rerun this cell to show the HTML representation or trust the notebook. <br />On GitHub, the HTML representation is unable to render, please try loading this page with nbviewer.org.</b></div><div class=\"sk-container\" hidden><div class=\"sk-item\"><div class=\"sk-estimator sk-toggleable\"><input class=\"sk-toggleable__control sk-hidden--visually\" id=\"sk-estimator-id-2\" type=\"checkbox\" checked><label for=\"sk-estimator-id-2\" class=\"sk-toggleable__label sk-toggleable__label-arrow\">RandomForestClassifier</label><div class=\"sk-toggleable__content\"><pre>RandomForestClassifier(random_state=42)</pre></div></div></div></div></div>"
      ],
      "text/plain": [
       "RandomForestClassifier(random_state=42)"
      ]
     },
     "execution_count": 208,
     "metadata": {},
     "output_type": "execute_result"
    }
   ],
   "source": [
    "rf_model.fit(X_train, y_train)"
   ]
  },
  {
   "cell_type": "code",
   "execution_count": 209,
   "id": "65cd92e8-4e8f-42b1-9f00-104a49b77c1b",
   "metadata": {},
   "outputs": [],
   "source": [
    "y_pred=rf_model.predict(X_test)"
   ]
  },
  {
   "cell_type": "code",
   "execution_count": 210,
   "id": "06996187-2843-4184-b09b-e10f18b143a2",
   "metadata": {},
   "outputs": [],
   "source": [
    "rf_accuracy= accuracy_score(y_test, y_pred)"
   ]
  },
  {
   "cell_type": "code",
   "execution_count": 211,
   "id": "444f1285-b808-45e4-b5f0-1636886cda65",
   "metadata": {},
   "outputs": [
    {
     "data": {
      "text/plain": [
       "0.5799086757990868"
      ]
     },
     "execution_count": 211,
     "metadata": {},
     "output_type": "execute_result"
    }
   ],
   "source": [
    "rf_accuracy"
   ]
  },
  {
   "cell_type": "markdown",
   "id": "86f889e8-72a3-43cf-87fa-d7c6dbf616e5",
   "metadata": {},
   "source": [
    "## Logistic Regression"
   ]
  },
  {
   "cell_type": "code",
   "execution_count": 214,
   "id": "eca0db54-231e-4a53-b961-576f38c5b3a5",
   "metadata": {},
   "outputs": [],
   "source": [
    "from sklearn.linear_model import LogisticRegression"
   ]
  },
  {
   "cell_type": "code",
   "execution_count": 216,
   "id": "c9323ab8-0cb6-4c02-b497-b099602ecc7c",
   "metadata": {},
   "outputs": [],
   "source": [
    "LR_model=LogisticRegression(max_iter=10000)"
   ]
  },
  {
   "cell_type": "code",
   "execution_count": 217,
   "id": "8eb99ab0-d5f1-4a98-9b2d-c9e2369d896d",
   "metadata": {},
   "outputs": [
    {
     "data": {
      "text/html": [
       "<style>#sk-container-id-3 {color: black;background-color: white;}#sk-container-id-3 pre{padding: 0;}#sk-container-id-3 div.sk-toggleable {background-color: white;}#sk-container-id-3 label.sk-toggleable__label {cursor: pointer;display: block;width: 100%;margin-bottom: 0;padding: 0.3em;box-sizing: border-box;text-align: center;}#sk-container-id-3 label.sk-toggleable__label-arrow:before {content: \"▸\";float: left;margin-right: 0.25em;color: #696969;}#sk-container-id-3 label.sk-toggleable__label-arrow:hover:before {color: black;}#sk-container-id-3 div.sk-estimator:hover label.sk-toggleable__label-arrow:before {color: black;}#sk-container-id-3 div.sk-toggleable__content {max-height: 0;max-width: 0;overflow: hidden;text-align: left;background-color: #f0f8ff;}#sk-container-id-3 div.sk-toggleable__content pre {margin: 0.2em;color: black;border-radius: 0.25em;background-color: #f0f8ff;}#sk-container-id-3 input.sk-toggleable__control:checked~div.sk-toggleable__content {max-height: 200px;max-width: 100%;overflow: auto;}#sk-container-id-3 input.sk-toggleable__control:checked~label.sk-toggleable__label-arrow:before {content: \"▾\";}#sk-container-id-3 div.sk-estimator input.sk-toggleable__control:checked~label.sk-toggleable__label {background-color: #d4ebff;}#sk-container-id-3 div.sk-label input.sk-toggleable__control:checked~label.sk-toggleable__label {background-color: #d4ebff;}#sk-container-id-3 input.sk-hidden--visually {border: 0;clip: rect(1px 1px 1px 1px);clip: rect(1px, 1px, 1px, 1px);height: 1px;margin: -1px;overflow: hidden;padding: 0;position: absolute;width: 1px;}#sk-container-id-3 div.sk-estimator {font-family: monospace;background-color: #f0f8ff;border: 1px dotted black;border-radius: 0.25em;box-sizing: border-box;margin-bottom: 0.5em;}#sk-container-id-3 div.sk-estimator:hover {background-color: #d4ebff;}#sk-container-id-3 div.sk-parallel-item::after {content: \"\";width: 100%;border-bottom: 1px solid gray;flex-grow: 1;}#sk-container-id-3 div.sk-label:hover label.sk-toggleable__label {background-color: #d4ebff;}#sk-container-id-3 div.sk-serial::before {content: \"\";position: absolute;border-left: 1px solid gray;box-sizing: border-box;top: 0;bottom: 0;left: 50%;z-index: 0;}#sk-container-id-3 div.sk-serial {display: flex;flex-direction: column;align-items: center;background-color: white;padding-right: 0.2em;padding-left: 0.2em;position: relative;}#sk-container-id-3 div.sk-item {position: relative;z-index: 1;}#sk-container-id-3 div.sk-parallel {display: flex;align-items: stretch;justify-content: center;background-color: white;position: relative;}#sk-container-id-3 div.sk-item::before, #sk-container-id-3 div.sk-parallel-item::before {content: \"\";position: absolute;border-left: 1px solid gray;box-sizing: border-box;top: 0;bottom: 0;left: 50%;z-index: -1;}#sk-container-id-3 div.sk-parallel-item {display: flex;flex-direction: column;z-index: 1;position: relative;background-color: white;}#sk-container-id-3 div.sk-parallel-item:first-child::after {align-self: flex-end;width: 50%;}#sk-container-id-3 div.sk-parallel-item:last-child::after {align-self: flex-start;width: 50%;}#sk-container-id-3 div.sk-parallel-item:only-child::after {width: 0;}#sk-container-id-3 div.sk-dashed-wrapped {border: 1px dashed gray;margin: 0 0.4em 0.5em 0.4em;box-sizing: border-box;padding-bottom: 0.4em;background-color: white;}#sk-container-id-3 div.sk-label label {font-family: monospace;font-weight: bold;display: inline-block;line-height: 1.2em;}#sk-container-id-3 div.sk-label-container {text-align: center;}#sk-container-id-3 div.sk-container {/* jupyter's `normalize.less` sets `[hidden] { display: none; }` but bootstrap.min.css set `[hidden] { display: none !important; }` so we also need the `!important` here to be able to override the default hidden behavior on the sphinx rendered scikit-learn.org. See: https://github.com/scikit-learn/scikit-learn/issues/21755 */display: inline-block !important;position: relative;}#sk-container-id-3 div.sk-text-repr-fallback {display: none;}</style><div id=\"sk-container-id-3\" class=\"sk-top-container\"><div class=\"sk-text-repr-fallback\"><pre>LogisticRegression(max_iter=10000)</pre><b>In a Jupyter environment, please rerun this cell to show the HTML representation or trust the notebook. <br />On GitHub, the HTML representation is unable to render, please try loading this page with nbviewer.org.</b></div><div class=\"sk-container\" hidden><div class=\"sk-item\"><div class=\"sk-estimator sk-toggleable\"><input class=\"sk-toggleable__control sk-hidden--visually\" id=\"sk-estimator-id-3\" type=\"checkbox\" checked><label for=\"sk-estimator-id-3\" class=\"sk-toggleable__label sk-toggleable__label-arrow\">LogisticRegression</label><div class=\"sk-toggleable__content\"><pre>LogisticRegression(max_iter=10000)</pre></div></div></div></div></div>"
      ],
      "text/plain": [
       "LogisticRegression(max_iter=10000)"
      ]
     },
     "execution_count": 217,
     "metadata": {},
     "output_type": "execute_result"
    }
   ],
   "source": [
    "LR_model.fit(X_train,y_train)"
   ]
  },
  {
   "cell_type": "code",
   "execution_count": 218,
   "id": "3ae3b17c-c445-454d-83d6-66cf8ec31ac0",
   "metadata": {},
   "outputs": [],
   "source": [
    "LR_y_pred=LR_model.predict(X_test)"
   ]
  },
  {
   "cell_type": "code",
   "execution_count": 219,
   "id": "f7fa9c3d-ef99-4f2b-9800-9cf9e8c1c22b",
   "metadata": {},
   "outputs": [
    {
     "data": {
      "text/plain": [
       "array([1, 1, 1, 1, 0, 0, 1, 1, 1, 1, 0, 1, 0, 0, 0, 0, 0, 1, 1, 0, 1, 1,\n",
       "       0, 0, 1, 0, 0, 1, 0, 1, 0, 0, 1, 1, 0, 1, 0, 1, 1, 0, 1, 0, 0, 1,\n",
       "       1, 0, 1, 1, 1, 0, 0, 0, 0, 1, 0, 1, 0, 0, 0, 0, 0, 0, 1, 0, 1, 0,\n",
       "       0, 0, 1, 1, 0, 0, 1, 0, 0, 0, 0, 0, 0, 0, 0, 0, 0, 1, 0, 1, 1, 1,\n",
       "       1, 1, 0, 1, 0, 0, 0, 1, 0, 1, 1, 0, 1, 0, 1, 1, 1, 1, 0, 0, 0, 0,\n",
       "       0, 1, 1, 1, 0, 0, 1, 0, 0, 0, 1, 0, 1, 0, 0, 0, 0, 0, 1, 0, 0, 1,\n",
       "       1, 0, 1, 0, 0, 0, 0, 0, 1, 0, 0, 0, 0, 0, 1, 1, 1, 1, 1, 0, 0, 1,\n",
       "       1, 1, 0, 1, 1, 0, 0, 1, 1, 1, 1, 0, 1, 1, 1, 0, 1, 1, 0, 0, 0, 0,\n",
       "       0, 0, 0, 0, 1, 0, 0, 0, 1, 0, 0, 1, 1, 1, 0, 0, 1, 0, 1, 0, 0, 1,\n",
       "       0, 0, 1, 0, 1, 1, 1, 0, 1, 0, 1, 0, 1, 0, 0, 1, 0, 1, 1, 1, 0],\n",
       "      dtype=int64)"
      ]
     },
     "execution_count": 219,
     "metadata": {},
     "output_type": "execute_result"
    }
   ],
   "source": [
    "LR_y_pred"
   ]
  },
  {
   "cell_type": "code",
   "execution_count": 220,
   "id": "353153ba-b6f2-4abd-90f7-977c98f5104c",
   "metadata": {},
   "outputs": [],
   "source": [
    "LR_accuracy=accuracy_score(y_test, LR_y_pred)"
   ]
  },
  {
   "cell_type": "code",
   "execution_count": 222,
   "id": "63404240-d344-42fd-a2d4-a204a48a66e3",
   "metadata": {},
   "outputs": [
    {
     "data": {
      "text/plain": [
       "57.077625570776256"
      ]
     },
     "execution_count": 222,
     "metadata": {},
     "output_type": "execute_result"
    }
   ],
   "source": [
    "LR_accuracy *100"
   ]
  },
  {
   "cell_type": "code",
   "execution_count": 223,
   "id": "d44cb265-096f-4c49-a48f-212c4dad2ac8",
   "metadata": {},
   "outputs": [
    {
     "data": {
      "text/plain": [
       "'              precision    recall  f1-score   support\\n\\n           0       0.64      0.61      0.62       127\\n           1       0.49      0.52      0.51        92\\n\\n    accuracy                           0.57       219\\n   macro avg       0.56      0.56      0.56       219\\nweighted avg       0.57      0.57      0.57       219\\n'"
      ]
     },
     "execution_count": 223,
     "metadata": {},
     "output_type": "execute_result"
    }
   ],
   "source": [
    "classification_report(y_test,LR_y_pred)"
   ]
  },
  {
   "cell_type": "code",
   "execution_count": null,
   "id": "49412e1b-ebfd-4479-8016-0473f5421a27",
   "metadata": {},
   "outputs": [],
   "source": []
  },
  {
   "cell_type": "markdown",
   "id": "40705fd7-9560-46d2-afe9-b7b451d939c0",
   "metadata": {},
   "source": [
    "## Decision Tree Model"
   ]
  },
  {
   "cell_type": "code",
   "execution_count": 225,
   "id": "a99b0f7f-bd16-4c89-94d1-ab2b080b2501",
   "metadata": {},
   "outputs": [],
   "source": [
    "from sklearn.tree import DecisionTreeClassifier"
   ]
  },
  {
   "cell_type": "code",
   "execution_count": 227,
   "id": "479f7dde-8450-482a-810b-49a9403510de",
   "metadata": {},
   "outputs": [],
   "source": [
    "Model_Dt=DecisionTreeClassifier(random_state=42)"
   ]
  },
  {
   "cell_type": "code",
   "execution_count": 228,
   "id": "39d07e05-af89-4c11-a449-3f5140bfc2f3",
   "metadata": {},
   "outputs": [
    {
     "data": {
      "text/html": [
       "<style>#sk-container-id-4 {color: black;background-color: white;}#sk-container-id-4 pre{padding: 0;}#sk-container-id-4 div.sk-toggleable {background-color: white;}#sk-container-id-4 label.sk-toggleable__label {cursor: pointer;display: block;width: 100%;margin-bottom: 0;padding: 0.3em;box-sizing: border-box;text-align: center;}#sk-container-id-4 label.sk-toggleable__label-arrow:before {content: \"▸\";float: left;margin-right: 0.25em;color: #696969;}#sk-container-id-4 label.sk-toggleable__label-arrow:hover:before {color: black;}#sk-container-id-4 div.sk-estimator:hover label.sk-toggleable__label-arrow:before {color: black;}#sk-container-id-4 div.sk-toggleable__content {max-height: 0;max-width: 0;overflow: hidden;text-align: left;background-color: #f0f8ff;}#sk-container-id-4 div.sk-toggleable__content pre {margin: 0.2em;color: black;border-radius: 0.25em;background-color: #f0f8ff;}#sk-container-id-4 input.sk-toggleable__control:checked~div.sk-toggleable__content {max-height: 200px;max-width: 100%;overflow: auto;}#sk-container-id-4 input.sk-toggleable__control:checked~label.sk-toggleable__label-arrow:before {content: \"▾\";}#sk-container-id-4 div.sk-estimator input.sk-toggleable__control:checked~label.sk-toggleable__label {background-color: #d4ebff;}#sk-container-id-4 div.sk-label input.sk-toggleable__control:checked~label.sk-toggleable__label {background-color: #d4ebff;}#sk-container-id-4 input.sk-hidden--visually {border: 0;clip: rect(1px 1px 1px 1px);clip: rect(1px, 1px, 1px, 1px);height: 1px;margin: -1px;overflow: hidden;padding: 0;position: absolute;width: 1px;}#sk-container-id-4 div.sk-estimator {font-family: monospace;background-color: #f0f8ff;border: 1px dotted black;border-radius: 0.25em;box-sizing: border-box;margin-bottom: 0.5em;}#sk-container-id-4 div.sk-estimator:hover {background-color: #d4ebff;}#sk-container-id-4 div.sk-parallel-item::after {content: \"\";width: 100%;border-bottom: 1px solid gray;flex-grow: 1;}#sk-container-id-4 div.sk-label:hover label.sk-toggleable__label {background-color: #d4ebff;}#sk-container-id-4 div.sk-serial::before {content: \"\";position: absolute;border-left: 1px solid gray;box-sizing: border-box;top: 0;bottom: 0;left: 50%;z-index: 0;}#sk-container-id-4 div.sk-serial {display: flex;flex-direction: column;align-items: center;background-color: white;padding-right: 0.2em;padding-left: 0.2em;position: relative;}#sk-container-id-4 div.sk-item {position: relative;z-index: 1;}#sk-container-id-4 div.sk-parallel {display: flex;align-items: stretch;justify-content: center;background-color: white;position: relative;}#sk-container-id-4 div.sk-item::before, #sk-container-id-4 div.sk-parallel-item::before {content: \"\";position: absolute;border-left: 1px solid gray;box-sizing: border-box;top: 0;bottom: 0;left: 50%;z-index: -1;}#sk-container-id-4 div.sk-parallel-item {display: flex;flex-direction: column;z-index: 1;position: relative;background-color: white;}#sk-container-id-4 div.sk-parallel-item:first-child::after {align-self: flex-end;width: 50%;}#sk-container-id-4 div.sk-parallel-item:last-child::after {align-self: flex-start;width: 50%;}#sk-container-id-4 div.sk-parallel-item:only-child::after {width: 0;}#sk-container-id-4 div.sk-dashed-wrapped {border: 1px dashed gray;margin: 0 0.4em 0.5em 0.4em;box-sizing: border-box;padding-bottom: 0.4em;background-color: white;}#sk-container-id-4 div.sk-label label {font-family: monospace;font-weight: bold;display: inline-block;line-height: 1.2em;}#sk-container-id-4 div.sk-label-container {text-align: center;}#sk-container-id-4 div.sk-container {/* jupyter's `normalize.less` sets `[hidden] { display: none; }` but bootstrap.min.css set `[hidden] { display: none !important; }` so we also need the `!important` here to be able to override the default hidden behavior on the sphinx rendered scikit-learn.org. See: https://github.com/scikit-learn/scikit-learn/issues/21755 */display: inline-block !important;position: relative;}#sk-container-id-4 div.sk-text-repr-fallback {display: none;}</style><div id=\"sk-container-id-4\" class=\"sk-top-container\"><div class=\"sk-text-repr-fallback\"><pre>DecisionTreeClassifier(random_state=42)</pre><b>In a Jupyter environment, please rerun this cell to show the HTML representation or trust the notebook. <br />On GitHub, the HTML representation is unable to render, please try loading this page with nbviewer.org.</b></div><div class=\"sk-container\" hidden><div class=\"sk-item\"><div class=\"sk-estimator sk-toggleable\"><input class=\"sk-toggleable__control sk-hidden--visually\" id=\"sk-estimator-id-4\" type=\"checkbox\" checked><label for=\"sk-estimator-id-4\" class=\"sk-toggleable__label sk-toggleable__label-arrow\">DecisionTreeClassifier</label><div class=\"sk-toggleable__content\"><pre>DecisionTreeClassifier(random_state=42)</pre></div></div></div></div></div>"
      ],
      "text/plain": [
       "DecisionTreeClassifier(random_state=42)"
      ]
     },
     "execution_count": 228,
     "metadata": {},
     "output_type": "execute_result"
    }
   ],
   "source": [
    "Model_Dt.fit(X_train,y_train)"
   ]
  },
  {
   "cell_type": "code",
   "execution_count": 229,
   "id": "552361e0-eb87-49ae-941c-f91783ac8127",
   "metadata": {},
   "outputs": [],
   "source": [
    "Dt_pred=Model_Dt.predict(X_test)"
   ]
  },
  {
   "cell_type": "code",
   "execution_count": 230,
   "id": "06a54b8c-ebe4-42c3-bb7d-733f528ba504",
   "metadata": {},
   "outputs": [],
   "source": [
    "Dt_accuracy =accuracy_score(y_test,Dt_pred)"
   ]
  },
  {
   "cell_type": "code",
   "execution_count": 232,
   "id": "02dae2ff-8e91-43b0-886e-aaa8f1031c4a",
   "metadata": {},
   "outputs": [
    {
     "data": {
      "text/plain": [
       "56.16438356164384"
      ]
     },
     "execution_count": 232,
     "metadata": {},
     "output_type": "execute_result"
    }
   ],
   "source": [
    "Dt_accuracy* 100"
   ]
  },
  {
   "cell_type": "markdown",
   "id": "821dfdc0-513a-48d0-99a9-ef7335785596",
   "metadata": {},
   "source": [
    "## Support Vector Machine "
   ]
  },
  {
   "cell_type": "code",
   "execution_count": 240,
   "id": "863955bd-17bb-45da-b4ab-97c3b20ca526",
   "metadata": {},
   "outputs": [],
   "source": [
    "from sklearn import svm"
   ]
  },
  {
   "cell_type": "code",
   "execution_count": 241,
   "id": "8bed4152-5654-4534-b3c0-26562175a18d",
   "metadata": {},
   "outputs": [],
   "source": [
    "Clf=svm.SVC(kernel='linear')"
   ]
  },
  {
   "cell_type": "code",
   "execution_count": 242,
   "id": "8f3c0f5c-0929-438c-999a-4b46b489cb1c",
   "metadata": {},
   "outputs": [
    {
     "data": {
      "text/html": [
       "<style>#sk-container-id-5 {color: black;background-color: white;}#sk-container-id-5 pre{padding: 0;}#sk-container-id-5 div.sk-toggleable {background-color: white;}#sk-container-id-5 label.sk-toggleable__label {cursor: pointer;display: block;width: 100%;margin-bottom: 0;padding: 0.3em;box-sizing: border-box;text-align: center;}#sk-container-id-5 label.sk-toggleable__label-arrow:before {content: \"▸\";float: left;margin-right: 0.25em;color: #696969;}#sk-container-id-5 label.sk-toggleable__label-arrow:hover:before {color: black;}#sk-container-id-5 div.sk-estimator:hover label.sk-toggleable__label-arrow:before {color: black;}#sk-container-id-5 div.sk-toggleable__content {max-height: 0;max-width: 0;overflow: hidden;text-align: left;background-color: #f0f8ff;}#sk-container-id-5 div.sk-toggleable__content pre {margin: 0.2em;color: black;border-radius: 0.25em;background-color: #f0f8ff;}#sk-container-id-5 input.sk-toggleable__control:checked~div.sk-toggleable__content {max-height: 200px;max-width: 100%;overflow: auto;}#sk-container-id-5 input.sk-toggleable__control:checked~label.sk-toggleable__label-arrow:before {content: \"▾\";}#sk-container-id-5 div.sk-estimator input.sk-toggleable__control:checked~label.sk-toggleable__label {background-color: #d4ebff;}#sk-container-id-5 div.sk-label input.sk-toggleable__control:checked~label.sk-toggleable__label {background-color: #d4ebff;}#sk-container-id-5 input.sk-hidden--visually {border: 0;clip: rect(1px 1px 1px 1px);clip: rect(1px, 1px, 1px, 1px);height: 1px;margin: -1px;overflow: hidden;padding: 0;position: absolute;width: 1px;}#sk-container-id-5 div.sk-estimator {font-family: monospace;background-color: #f0f8ff;border: 1px dotted black;border-radius: 0.25em;box-sizing: border-box;margin-bottom: 0.5em;}#sk-container-id-5 div.sk-estimator:hover {background-color: #d4ebff;}#sk-container-id-5 div.sk-parallel-item::after {content: \"\";width: 100%;border-bottom: 1px solid gray;flex-grow: 1;}#sk-container-id-5 div.sk-label:hover label.sk-toggleable__label {background-color: #d4ebff;}#sk-container-id-5 div.sk-serial::before {content: \"\";position: absolute;border-left: 1px solid gray;box-sizing: border-box;top: 0;bottom: 0;left: 50%;z-index: 0;}#sk-container-id-5 div.sk-serial {display: flex;flex-direction: column;align-items: center;background-color: white;padding-right: 0.2em;padding-left: 0.2em;position: relative;}#sk-container-id-5 div.sk-item {position: relative;z-index: 1;}#sk-container-id-5 div.sk-parallel {display: flex;align-items: stretch;justify-content: center;background-color: white;position: relative;}#sk-container-id-5 div.sk-item::before, #sk-container-id-5 div.sk-parallel-item::before {content: \"\";position: absolute;border-left: 1px solid gray;box-sizing: border-box;top: 0;bottom: 0;left: 50%;z-index: -1;}#sk-container-id-5 div.sk-parallel-item {display: flex;flex-direction: column;z-index: 1;position: relative;background-color: white;}#sk-container-id-5 div.sk-parallel-item:first-child::after {align-self: flex-end;width: 50%;}#sk-container-id-5 div.sk-parallel-item:last-child::after {align-self: flex-start;width: 50%;}#sk-container-id-5 div.sk-parallel-item:only-child::after {width: 0;}#sk-container-id-5 div.sk-dashed-wrapped {border: 1px dashed gray;margin: 0 0.4em 0.5em 0.4em;box-sizing: border-box;padding-bottom: 0.4em;background-color: white;}#sk-container-id-5 div.sk-label label {font-family: monospace;font-weight: bold;display: inline-block;line-height: 1.2em;}#sk-container-id-5 div.sk-label-container {text-align: center;}#sk-container-id-5 div.sk-container {/* jupyter's `normalize.less` sets `[hidden] { display: none; }` but bootstrap.min.css set `[hidden] { display: none !important; }` so we also need the `!important` here to be able to override the default hidden behavior on the sphinx rendered scikit-learn.org. See: https://github.com/scikit-learn/scikit-learn/issues/21755 */display: inline-block !important;position: relative;}#sk-container-id-5 div.sk-text-repr-fallback {display: none;}</style><div id=\"sk-container-id-5\" class=\"sk-top-container\"><div class=\"sk-text-repr-fallback\"><pre>SVC(kernel=&#x27;linear&#x27;)</pre><b>In a Jupyter environment, please rerun this cell to show the HTML representation or trust the notebook. <br />On GitHub, the HTML representation is unable to render, please try loading this page with nbviewer.org.</b></div><div class=\"sk-container\" hidden><div class=\"sk-item\"><div class=\"sk-estimator sk-toggleable\"><input class=\"sk-toggleable__control sk-hidden--visually\" id=\"sk-estimator-id-5\" type=\"checkbox\" checked><label for=\"sk-estimator-id-5\" class=\"sk-toggleable__label sk-toggleable__label-arrow\">SVC</label><div class=\"sk-toggleable__content\"><pre>SVC(kernel=&#x27;linear&#x27;)</pre></div></div></div></div></div>"
      ],
      "text/plain": [
       "SVC(kernel='linear')"
      ]
     },
     "execution_count": 242,
     "metadata": {},
     "output_type": "execute_result"
    }
   ],
   "source": [
    "Clf.fit(X_train, y_train)"
   ]
  },
  {
   "cell_type": "code",
   "execution_count": 243,
   "id": "3e75d092-908a-4f4a-bec0-6a2a800977aa",
   "metadata": {},
   "outputs": [],
   "source": [
    "Clf_pred=Clf.predict(X_test)"
   ]
  },
  {
   "cell_type": "code",
   "execution_count": 245,
   "id": "9b34b31c-ee80-4995-8d83-7d259db4a412",
   "metadata": {},
   "outputs": [
    {
     "data": {
      "text/plain": [
       "array([1, 1, 1, 0, 0, 0, 1, 1, 1, 1, 1, 1, 0, 0, 0, 0, 0, 0, 1, 1, 1, 1,\n",
       "       0, 0, 1, 0, 0, 1, 0, 1, 0, 0, 1, 1, 0, 1, 0, 1, 1, 0, 1, 0, 0, 1,\n",
       "       1, 0, 1, 0, 1, 0, 0, 0, 0, 1, 1, 1, 0, 0, 0, 1, 0, 0, 1, 1, 1, 0,\n",
       "       0, 0, 1, 1, 0, 0, 1, 0, 0, 0, 0, 0, 0, 0, 1, 0, 0, 1, 0, 1, 1, 1,\n",
       "       1, 1, 1, 1, 1, 0, 0, 1, 0, 0, 1, 0, 1, 0, 1, 1, 1, 1, 0, 0, 0, 0,\n",
       "       0, 1, 1, 1, 0, 0, 1, 0, 0, 0, 1, 0, 1, 0, 0, 0, 1, 0, 1, 0, 0, 1,\n",
       "       1, 0, 1, 0, 1, 0, 0, 0, 1, 0, 0, 0, 0, 0, 1, 1, 1, 1, 1, 0, 0, 1,\n",
       "       0, 1, 0, 1, 1, 0, 0, 1, 0, 1, 1, 0, 0, 1, 1, 1, 1, 1, 0, 0, 0, 0,\n",
       "       0, 0, 0, 0, 1, 0, 0, 0, 1, 0, 1, 1, 0, 1, 1, 0, 1, 0, 0, 0, 0, 1,\n",
       "       0, 0, 0, 0, 1, 1, 1, 0, 1, 0, 1, 0, 1, 0, 0, 1, 0, 1, 1, 0, 0],\n",
       "      dtype=int64)"
      ]
     },
     "execution_count": 245,
     "metadata": {},
     "output_type": "execute_result"
    }
   ],
   "source": [
    "Clf_pred"
   ]
  },
  {
   "cell_type": "code",
   "execution_count": 246,
   "id": "df13919d-4856-4ffe-8f7a-ab15235c318d",
   "metadata": {},
   "outputs": [],
   "source": [
    "clf_accuracy=accuracy_score(y_test, Clf_pred)"
   ]
  },
  {
   "cell_type": "code",
   "execution_count": 247,
   "id": "e58f175c-0869-449d-8f05-4e69caa5b8a7",
   "metadata": {},
   "outputs": [
    {
     "data": {
      "text/plain": [
       "0.5707762557077626"
      ]
     },
     "execution_count": 247,
     "metadata": {},
     "output_type": "execute_result"
    }
   ],
   "source": [
    "clf_accuracy"
   ]
  },
  {
   "cell_type": "markdown",
   "id": "0ec359c4-8549-42dd-9990-f9456500dad2",
   "metadata": {},
   "source": [
    "## Confusion matrix "
   ]
  },
  {
   "cell_type": "code",
   "execution_count": 250,
   "id": "b28c29d0-8168-42cb-ab3e-5c6c7a2a7bb2",
   "metadata": {},
   "outputs": [],
   "source": [
    "from sklearn.metrics import confusion_matrix, ConfusionMatrixDisplay"
   ]
  },
  {
   "cell_type": "code",
   "execution_count": 252,
   "id": "d4cda0ca-241e-42e9-b308-4973c8f2725e",
   "metadata": {},
   "outputs": [
    {
     "data": {
      "text/plain": [
       "<sklearn.metrics._plot.confusion_matrix.ConfusionMatrixDisplay at 0x223278e4390>"
      ]
     },
     "execution_count": 252,
     "metadata": {},
     "output_type": "execute_result"
    },
    {
     "data": {
      "image/png": "[encoded data removed]",
      "text/plain": [
       "<Figure size 640x480 with 2 Axes>"
      ]
     },
     "metadata": {},
     "output_type": "display_data"
    }
   ],
   "source": [
    "cm = confusion_matrix(y_test, y_pred, labels=[1,-1])\n",
    "disp =ConfusionMatrixDisplay(confusion_matrix=cm, display_labels=[1,-1])\n",
    "disp.plot(cmap=plt.cm.Blues)"
   ]
  },
  {
   "cell_type": "code",
   "execution_count": 253,
   "id": "81693710-a5fe-45c7-8c1c-995e683115a0",
   "metadata": {},
   "outputs": [
    {
     "data": {
      "text/plain": [
       "<sklearn.metrics._plot.confusion_matrix.ConfusionMatrixDisplay at 0x22327c9b850>"
      ]
     },
     "execution_count": 253,
     "metadata": {},
     "output_type": "execute_result"
    },
    {
     "data": {
      "image/png": "[encoded data removed]",
      "text/plain": [
       "<Figure size 640x480 with 2 Axes>"
      ]
     },
     "metadata": {},
     "output_type": "display_data"
    }
   ],
   "source": [
    "cm = confusion_matrix(y_test, Clf_pred, labels=[1,-1])\n",
    "disp =ConfusionMatrixDisplay(confusion_matrix=cm, display_labels=[1,-1])\n",
    "disp.plot(cmap=plt.cm.Blues)"
   ]
  },
  {
   "cell_type": "code",
   "execution_count": null,
   "id": "e0dfe4d4-f459-437a-bfd3-31676c9fbc32",
   "metadata": {},
   "outputs": [],
   "source": []
  }
 ],
 "metadata": {
  "kernelspec": {
   "display_name": "Python 3 (ipykernel)",
   "language": "python",
   "name": "python3"
  },
  "language_info": {
   "codemirror_mode": {
    "name": "ipython",
    "version": 3
   },
   "file_extension": ".py",
   "mimetype": "text/x-python",
   "name": "python",
   "nbconvert_exporter": "python",
   "pygments_lexer": "ipython3",
   "version": "3.11.7"
  }
 },
 "nbformat": 4,
 "nbformat_minor": 5
}
